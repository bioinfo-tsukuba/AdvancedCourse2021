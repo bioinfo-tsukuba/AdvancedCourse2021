{
  "nbformat": 4,
  "nbformat_minor": 2,
  "metadata": {
    "kernelspec": {
      "name": "python3",
      "display_name": "Python 3"
    },
    "colab": {
      "name": "Tumor_cell_interaction.ipynb",
      "provenance": [],
      "collapsed_sections": [
        "djelGLnFzNkw",
        "tc_P4WuVFf-T",
        "s8JVQpTXzNk1"
      ],
      "toc_visible": true
    }
  },
  "cells": [
    {
      "cell_type": "markdown",
      "source": [
        "# 実習の説明\n",
        "\n",
        "\n",
        "## 何をするか？\n",
        "\n",
        "非小細胞肺癌 (non-small-cell lung cancer; NSCLC) において、腫瘍組織内に存在する間質細胞から腫瘍細胞にシグナルのクロストークが送って腫瘍が活性化される可能性を探ります。データは、NSCLCモデルマウスと野生型のマウスの肺から、セルソーターで分けたマクロファージ、単球細胞、好中球、上皮細胞のRNA-seqデータです。\n",
        "\n",
        "> このようなRNA-seqデータを、「変数が全遺伝子、条件が細胞型xマウス（野生型 or 腫瘍）、値が発現量である表」として想像できると、あとの解析がスムーズです\n",
        "\n",
        "元ネタはこちら: \n",
        "\n",
        "- Toi _et al_., Transcriptome Analysis of Individual Stromal Cell Populations Identifies Stroma-Tumor Crosstalk in Mouse Lung Cancer Model, Cell Reports (2015) http://dx.doi.org/10.1016/j.celrep.2015.01.040 \n",
        "\n",
        "ソフトウェアやアノテーションデータが著者らのウェブページで公開されています。また、NGSデータの生データや処理済みデータはGene Expression Omnibus (GEO)より公開されています。\n",
        "\n",
        "- ソフトウェアやアノテーションデータ http://209.160.41.231/u54/CCCExplorer/\n",
        "- Gene Expression Omnibus (GEO)のNGSデータのページ https://www.ncbi.nlm.nih.gov/geo/query/acc.cgi?acc=GSE59831\n",
        "\n",
        "## どうやるか？\n",
        "\n",
        "腫瘍組織内間質細胞のリガンドから腫瘍細胞の受容体へのシグナルのクロストークがあるとしたら、\n",
        "\n",
        "- 腫瘍モデルマウスでは野生型に比べ、リガンドが発現上昇しているだろう\n",
        "- 腫瘍モデルマウスの上皮組織では、そのリガンドの受容体が発現しているだろう\n",
        "\n",
        "そのようなリガンドと受容体のペアを見つけるのに必要なデータは？\n",
        "\n",
        "- 既知のリガンド-受容体ペアのデータベース（ヒト）\n",
        "- ヒト-マウスオーソログの対応表\n",
        "- 腫瘍組織内間質細胞で発現上昇がみられた遺伝子のリスト\n",
        "- 腫瘍細胞で発現上昇\n",
        "\n",
        "それらのデータを組み合わせればよさそう"
      ],
      "metadata": {
        "id": "OEe0qtb5zNj7"
      }
    },
    {
      "cell_type": "markdown",
      "source": [
        "![image.png](https://ars.els-cdn.com/content/image/1-s2.0-S2211124715000650-fx1.jpg)\n",
        "(Image from http://dx.doi.org/10.1016/j.celrep.2015.01.040)"
      ],
      "metadata": {
        "id": "hZe8r1qfzNj8"
      }
    },
    {
      "cell_type": "markdown",
      "source": [
        "# **データの読み込みと整形**\n",
        "\n",
        "４種類のテーブルデータを読み込みます。"
      ],
      "metadata": {
        "id": "lNvT8XYmzNj9"
      }
    },
    {
      "cell_type": "markdown",
      "source": [
        "## ライブラリのロード\n",
        "ライブラリを使えるようにするためにロードする"
      ],
      "metadata": {
        "id": "t-XyDQWFzNj9"
      }
    },
    {
      "cell_type": "code",
      "execution_count": 1,
      "source": [
        "import pandas as pd\n",
        "import numpy as np\n",
        "import math"
      ],
      "outputs": [],
      "metadata": {
        "id": "Y0D_JpT1zNj-"
      }
    },
    {
      "cell_type": "markdown",
      "source": [
        "## テーブルデータ１：遺伝子発現変動解析の結果のデータを眺めてみる\n",
        "\n",
        "遺伝子はたくさんありますが、その中でも、「発現量がサンプル間で変動している遺伝子」に注意が向きます。なぜなら、そのような遺伝子は、サンプル間の表現型の違いを説明する可能性があるからです。\n",
        "\n",
        "そのような遺伝子は一般に発現変動遺伝子（Differentially expressed genes; DEG） と呼ばれます。\n",
        "\n",
        "ここでは正常組織と腫瘍組織のマクロファージの発現変動遺伝子解析の結果のデータを読み込んで、値の分布などを調べます。\n",
        "\n",
        "- 詳しく言うと、正常組織と腫瘍組織のマクロファージから取得した RNA-seq データから、正常組織と腫瘍組織の間で発現が変動しているかを全ての遺伝子について網羅的に仮説検定した結果のデータ (`data/CCCExplorer/CD11CB_output/gene_exp.diff`) です。\n",
        " \n",
        "これを例に、データの眺め方をみていきます。"
      ],
      "metadata": {
        "id": "xO3egZOfzNkG"
      }
    },
    {
      "cell_type": "code",
      "execution_count": 2,
      "source": [
        "# データの読み込み\n",
        "url_deg_macrophage =\"https://raw.githubusercontent.com/bioinfo-tsukuba/AdvancedCourse2021/main/3/data/CCCExplorer/CD11CB_output/gene_exp.diff\"\n",
        "deg_macrophage = pd.read_csv(url_deg_macrophage, sep=\"\\t\")"
      ],
      "outputs": [],
      "metadata": {
        "id": "EiDV-GRtzNkG"
      }
    },
    {
      "cell_type": "code",
      "execution_count": 3,
      "source": [
        "# 行数、何数を調べる\n",
        "deg_macrophage.shape"
      ],
      "outputs": [
        {
          "output_type": "execute_result",
          "data": {
            "text/plain": [
              "(30743, 14)"
            ]
          },
          "metadata": {},
          "execution_count": 3
        }
      ],
      "metadata": {
        "id": "FcSDHjuAzNkJ",
        "colab": {
          "base_uri": "https://localhost:8080/"
        },
        "outputId": "b7e6f701-4f74-4fd1-f252-f63474e4355d"
      }
    },
    {
      "cell_type": "code",
      "execution_count": 4,
      "source": [
        "# データの頭の部分だけ確認\n",
        "deg_macrophage.head()"
      ],
      "outputs": [
        {
          "output_type": "execute_result",
          "data": {
            "text/html": [
              "<div>\n",
              "<style scoped>\n",
              "    .dataframe tbody tr th:only-of-type {\n",
              "        vertical-align: middle;\n",
              "    }\n",
              "\n",
              "    .dataframe tbody tr th {\n",
              "        vertical-align: top;\n",
              "    }\n",
              "\n",
              "    .dataframe thead th {\n",
              "        text-align: right;\n",
              "    }\n",
              "</style>\n",
              "<table border=\"1\" class=\"dataframe\">\n",
              "  <thead>\n",
              "    <tr style=\"text-align: right;\">\n",
              "      <th></th>\n",
              "      <th>test_id</th>\n",
              "      <th>gene_id</th>\n",
              "      <th>gene</th>\n",
              "      <th>locus</th>\n",
              "      <th>sample_1</th>\n",
              "      <th>sample_2</th>\n",
              "      <th>status</th>\n",
              "      <th>value_1</th>\n",
              "      <th>value_2</th>\n",
              "      <th>log2(fold_change)</th>\n",
              "      <th>test_stat</th>\n",
              "      <th>p_value</th>\n",
              "      <th>q_value</th>\n",
              "      <th>significant</th>\n",
              "    </tr>\n",
              "  </thead>\n",
              "  <tbody>\n",
              "    <tr>\n",
              "      <th>0</th>\n",
              "      <td>0610005C13Rik</td>\n",
              "      <td>0610005C13Rik</td>\n",
              "      <td>-</td>\n",
              "      <td>chr7:45567794-45589710</td>\n",
              "      <td>q1</td>\n",
              "      <td>q2</td>\n",
              "      <td>NOTEST</td>\n",
              "      <td>0.072521</td>\n",
              "      <td>0.044282</td>\n",
              "      <td>-0.711684</td>\n",
              "      <td>0.000000</td>\n",
              "      <td>1.00000</td>\n",
              "      <td>1.000000</td>\n",
              "      <td>no</td>\n",
              "    </tr>\n",
              "    <tr>\n",
              "      <th>1</th>\n",
              "      <td>0610007C21Rik</td>\n",
              "      <td>0610007C21Rik</td>\n",
              "      <td>-</td>\n",
              "      <td>chr5:31036035-31054623</td>\n",
              "      <td>q1</td>\n",
              "      <td>q2</td>\n",
              "      <td>OK</td>\n",
              "      <td>50.268700</td>\n",
              "      <td>47.849600</td>\n",
              "      <td>-0.071153</td>\n",
              "      <td>-0.229939</td>\n",
              "      <td>0.71855</td>\n",
              "      <td>0.839597</td>\n",
              "      <td>no</td>\n",
              "    </tr>\n",
              "    <tr>\n",
              "      <th>2</th>\n",
              "      <td>0610007N19Rik</td>\n",
              "      <td>0610007N19Rik</td>\n",
              "      <td>-</td>\n",
              "      <td>chr15:32240567-32244662</td>\n",
              "      <td>q1</td>\n",
              "      <td>q2</td>\n",
              "      <td>NOTEST</td>\n",
              "      <td>0.238515</td>\n",
              "      <td>0.062952</td>\n",
              "      <td>-1.921740</td>\n",
              "      <td>0.000000</td>\n",
              "      <td>1.00000</td>\n",
              "      <td>1.000000</td>\n",
              "      <td>no</td>\n",
              "    </tr>\n",
              "    <tr>\n",
              "      <th>3</th>\n",
              "      <td>0610007P08Rik</td>\n",
              "      <td>0610007P08Rik</td>\n",
              "      <td>-</td>\n",
              "      <td>chr13:63815319-63900301</td>\n",
              "      <td>q1</td>\n",
              "      <td>q2</td>\n",
              "      <td>OK</td>\n",
              "      <td>3.574360</td>\n",
              "      <td>3.112430</td>\n",
              "      <td>-0.199643</td>\n",
              "      <td>-0.579890</td>\n",
              "      <td>0.36160</td>\n",
              "      <td>0.542589</td>\n",
              "      <td>no</td>\n",
              "    </tr>\n",
              "    <tr>\n",
              "      <th>4</th>\n",
              "      <td>0610007P14Rik</td>\n",
              "      <td>0610007P14Rik</td>\n",
              "      <td>-</td>\n",
              "      <td>chr12:85815454-85824545</td>\n",
              "      <td>q1</td>\n",
              "      <td>q2</td>\n",
              "      <td>OK</td>\n",
              "      <td>11.635600</td>\n",
              "      <td>10.572300</td>\n",
              "      <td>-0.138247</td>\n",
              "      <td>-0.474073</td>\n",
              "      <td>0.54570</td>\n",
              "      <td>0.711416</td>\n",
              "      <td>no</td>\n",
              "    </tr>\n",
              "  </tbody>\n",
              "</table>\n",
              "</div>"
            ],
            "text/plain": [
              "         test_id        gene_id gene  ...  p_value   q_value significant\n",
              "0  0610005C13Rik  0610005C13Rik    -  ...  1.00000  1.000000          no\n",
              "1  0610007C21Rik  0610007C21Rik    -  ...  0.71855  0.839597          no\n",
              "2  0610007N19Rik  0610007N19Rik    -  ...  1.00000  1.000000          no\n",
              "3  0610007P08Rik  0610007P08Rik    -  ...  0.36160  0.542589          no\n",
              "4  0610007P14Rik  0610007P14Rik    -  ...  0.54570  0.711416          no\n",
              "\n",
              "[5 rows x 14 columns]"
            ]
          },
          "metadata": {},
          "execution_count": 4
        }
      ],
      "metadata": {
        "id": "qSHABKqdzNkL",
        "colab": {
          "base_uri": "https://localhost:8080/",
          "height": 204
        },
        "outputId": "4747f932-2cc4-46eb-b13e-83ab8e75810d"
      }
    },
    {
      "cell_type": "markdown",
      "source": [
        "実はこのようなデータでした\n",
        "\n",
        "- 縦に遺伝子名のようなものが並んでいる。各行が遺伝子、各列が変数になっている\n",
        "- `p_value`や`q_value`は発現変動を判定する統計検定の結果だろう\n",
        "- `log2(fold_change)` は `value_2`/`value_1`をlog2変換したものだろう\n",
        "    - ちなみに、`value_1` は正常組織でのマクロファージ、 `value_2` は腫瘍組織内マクロファージ (intratumoral macropahges)でのFPKMの平均値\n",
        "      - これは __メタデータ__ をみないとわからない"
      ],
      "metadata": {
        "id": "oi5HuaHSzNkN"
      }
    },
    {
      "cell_type": "code",
      "execution_count": 5,
      "source": [
        "# 使いやすいように、使いたい列だけにする\n",
        "deg_macrophage = deg_macrophage[['gene_id', 'value_1', 'value_2', 'log2(fold_change)', 'p_value', 'q_value']]"
      ],
      "outputs": [],
      "metadata": {
        "id": "C2WZr53MzNkO"
      }
    },
    {
      "cell_type": "code",
      "execution_count": 6,
      "source": [
        "# データの形が変わったことを確認\n",
        "deg_macrophage.head()"
      ],
      "outputs": [
        {
          "output_type": "execute_result",
          "data": {
            "text/html": [
              "<div>\n",
              "<style scoped>\n",
              "    .dataframe tbody tr th:only-of-type {\n",
              "        vertical-align: middle;\n",
              "    }\n",
              "\n",
              "    .dataframe tbody tr th {\n",
              "        vertical-align: top;\n",
              "    }\n",
              "\n",
              "    .dataframe thead th {\n",
              "        text-align: right;\n",
              "    }\n",
              "</style>\n",
              "<table border=\"1\" class=\"dataframe\">\n",
              "  <thead>\n",
              "    <tr style=\"text-align: right;\">\n",
              "      <th></th>\n",
              "      <th>gene_id</th>\n",
              "      <th>value_1</th>\n",
              "      <th>value_2</th>\n",
              "      <th>log2(fold_change)</th>\n",
              "      <th>p_value</th>\n",
              "      <th>q_value</th>\n",
              "    </tr>\n",
              "  </thead>\n",
              "  <tbody>\n",
              "    <tr>\n",
              "      <th>0</th>\n",
              "      <td>0610005C13Rik</td>\n",
              "      <td>0.072521</td>\n",
              "      <td>0.044282</td>\n",
              "      <td>-0.711684</td>\n",
              "      <td>1.00000</td>\n",
              "      <td>1.000000</td>\n",
              "    </tr>\n",
              "    <tr>\n",
              "      <th>1</th>\n",
              "      <td>0610007C21Rik</td>\n",
              "      <td>50.268700</td>\n",
              "      <td>47.849600</td>\n",
              "      <td>-0.071153</td>\n",
              "      <td>0.71855</td>\n",
              "      <td>0.839597</td>\n",
              "    </tr>\n",
              "    <tr>\n",
              "      <th>2</th>\n",
              "      <td>0610007N19Rik</td>\n",
              "      <td>0.238515</td>\n",
              "      <td>0.062952</td>\n",
              "      <td>-1.921740</td>\n",
              "      <td>1.00000</td>\n",
              "      <td>1.000000</td>\n",
              "    </tr>\n",
              "    <tr>\n",
              "      <th>3</th>\n",
              "      <td>0610007P08Rik</td>\n",
              "      <td>3.574360</td>\n",
              "      <td>3.112430</td>\n",
              "      <td>-0.199643</td>\n",
              "      <td>0.36160</td>\n",
              "      <td>0.542589</td>\n",
              "    </tr>\n",
              "    <tr>\n",
              "      <th>4</th>\n",
              "      <td>0610007P14Rik</td>\n",
              "      <td>11.635600</td>\n",
              "      <td>10.572300</td>\n",
              "      <td>-0.138247</td>\n",
              "      <td>0.54570</td>\n",
              "      <td>0.711416</td>\n",
              "    </tr>\n",
              "  </tbody>\n",
              "</table>\n",
              "</div>"
            ],
            "text/plain": [
              "         gene_id    value_1    value_2  log2(fold_change)  p_value   q_value\n",
              "0  0610005C13Rik   0.072521   0.044282          -0.711684  1.00000  1.000000\n",
              "1  0610007C21Rik  50.268700  47.849600          -0.071153  0.71855  0.839597\n",
              "2  0610007N19Rik   0.238515   0.062952          -1.921740  1.00000  1.000000\n",
              "3  0610007P08Rik   3.574360   3.112430          -0.199643  0.36160  0.542589\n",
              "4  0610007P14Rik  11.635600  10.572300          -0.138247  0.54570  0.711416"
            ]
          },
          "metadata": {},
          "execution_count": 6
        }
      ],
      "metadata": {
        "id": "8mycG5jozNkQ",
        "colab": {
          "base_uri": "https://localhost:8080/",
          "height": 204
        },
        "outputId": "853ccc30-5ae1-4512-df92-1cd0136e65ec"
      }
    },
    {
      "cell_type": "markdown",
      "source": [
        "#### 発現変動遺伝子の数を数える\n",
        "\n",
        "遺伝子はたくさんありますが、その中でも、「発現量がサンプル間で変動している遺伝子」に注意が向きます。なぜなら、そのような遺伝子は、サンプル間の表現型の違いを説明する可能性があるからです。\n",
        "\n",
        "そのような遺伝子は一般に発現変動遺伝子（Differentially expressed genes; DEG） と呼ばれます。ここでは、発現変動遺伝子を抽出することを試みます。\n",
        "\n"
      ],
      "metadata": {
        "id": "4IPV1FP1zNka"
      }
    },
    {
      "cell_type": "code",
      "execution_count": 7,
      "source": [
        "# Fold change (fc) と　q-value (qv) の閾値を設定する\n",
        "\n",
        "threshold_fc = math.log2(1.5)\n",
        "threshold_qv = 0.1 "
      ],
      "outputs": [],
      "metadata": {
        "id": "6xqHQ4Vq9yu_"
      }
    },
    {
      "cell_type": "code",
      "execution_count": 8,
      "source": [
        "# 腫瘍組織内マクロファージで多い (FC > 1.5, q_value < 0.1) 遺伝子の数は？\n",
        "deg_macrophage.query('`log2(fold_change)` > @threshold_fc & q_value < @threshold_qv').shape"
      ],
      "outputs": [
        {
          "output_type": "execute_result",
          "data": {
            "text/plain": [
              "(2324, 6)"
            ]
          },
          "metadata": {},
          "execution_count": 8
        }
      ],
      "metadata": {
        "id": "fQFk-GzT5RS3",
        "colab": {
          "base_uri": "https://localhost:8080/"
        },
        "outputId": "3b9fd63c-006a-4dd7-a787-70731c9fbe79"
      }
    },
    {
      "cell_type": "code",
      "execution_count": 9,
      "source": [
        "# 正常組織内マクロファージで多い (FC > 1/1.5, q_value < 0.1) の遺伝子の数は？\n",
        "deg_macrophage.query('`log2(fold_change)` > -1 * @threshold_fc & q_value < @threshold_qv').shape"
      ],
      "outputs": [
        {
          "output_type": "execute_result",
          "data": {
            "text/plain": [
              "(3334, 6)"
            ]
          },
          "metadata": {},
          "execution_count": 9
        }
      ],
      "metadata": {
        "id": "biE01aHlzNke",
        "colab": {
          "base_uri": "https://localhost:8080/"
        },
        "outputId": "9ea0dfc7-46db-4e05-f03e-afc0e6210c35"
      }
    },
    {
      "cell_type": "markdown",
      "source": [
        "#### ポジコンが取れているかを確認する\n",
        "一般に実験がうまくいったかを確認するためには、「その実験がうまくいっているとすると絶対に観察される結果」を事前に設定します。これをポジコン（Positive control）と呼びます。\n",
        "\n",
        "RNA-seq解析では、「このサンプルだとこの遺伝子は絶対に出ているはず」「この２サンプル群間でこの遺伝子は絶対に発現量に差が出ているはず」という遺伝子がポジコンに当たります。\n",
        "\n",
        "今回は、「腫瘍内マクロファージでは、正常組織でのマクロファージに比べ、MMP-9やVEGFA遺伝子の発現量が高くなっている」という先行研究を参照し（下記）、これらの遺伝子が「腫瘍内マクロファージで高いと判定される発現変動遺伝子」に含まれるかを確認します。これにより、このRNA-seqデータが、生物学的なシグナルを反映してるかを判断します。\n",
        "\n",
        "\n",
        "> \"intratumoral macrophages express increased cathepsin K, COX-2, MMP-9, PDGF-B, uPA, VEGFA, and HGF (Wang et al., 2011)\"\n",
        "    - Wang et al., 2011 http://www.sciencedirect.com/science/article/pii/S0169500211002546"
      ],
      "metadata": {
        "id": "f9EL879L-uCk"
      }
    },
    {
      "cell_type": "code",
      "execution_count": 10,
      "source": [
        "# ポジコンである Vegfa がとれるかの確認 (生物学的なQC)\n",
        "deg_macrophage.query('`log2(fold_change)` > @threshold_fc & q_value < @threshold_qv').query('gene_id==\"Vegfa\"')"
      ],
      "outputs": [
        {
          "output_type": "execute_result",
          "data": {
            "text/html": [
              "<div>\n",
              "<style scoped>\n",
              "    .dataframe tbody tr th:only-of-type {\n",
              "        vertical-align: middle;\n",
              "    }\n",
              "\n",
              "    .dataframe tbody tr th {\n",
              "        vertical-align: top;\n",
              "    }\n",
              "\n",
              "    .dataframe thead th {\n",
              "        text-align: right;\n",
              "    }\n",
              "</style>\n",
              "<table border=\"1\" class=\"dataframe\">\n",
              "  <thead>\n",
              "    <tr style=\"text-align: right;\">\n",
              "      <th></th>\n",
              "      <th>gene_id</th>\n",
              "      <th>value_1</th>\n",
              "      <th>value_2</th>\n",
              "      <th>log2(fold_change)</th>\n",
              "      <th>p_value</th>\n",
              "      <th>q_value</th>\n",
              "    </tr>\n",
              "  </thead>\n",
              "  <tbody>\n",
              "    <tr>\n",
              "      <th>29378</th>\n",
              "      <td>Vegfa</td>\n",
              "      <td>7.99474</td>\n",
              "      <td>167.936</td>\n",
              "      <td>4.39272</td>\n",
              "      <td>0.00005</td>\n",
              "      <td>0.00031</td>\n",
              "    </tr>\n",
              "  </tbody>\n",
              "</table>\n",
              "</div>"
            ],
            "text/plain": [
              "      gene_id  value_1  value_2  log2(fold_change)  p_value  q_value\n",
              "29378   Vegfa  7.99474  167.936            4.39272  0.00005  0.00031"
            ]
          },
          "metadata": {},
          "execution_count": 10
        }
      ],
      "metadata": {
        "id": "_UWBTngKzNkd",
        "colab": {
          "base_uri": "https://localhost:8080/",
          "height": 80
        },
        "outputId": "6c2b8819-0f0d-48d2-d0eb-d9035d5ad783"
      }
    },
    {
      "cell_type": "code",
      "execution_count": 11,
      "source": [
        "# ポジコンである Mmp9 がとれるかの確認 (生物学的なQC)\n",
        "deg_macrophage.query('`log2(fold_change)` > @threshold_fc & q_value < @threshold_qv').query('gene_id==\"Mmp9\"')"
      ],
      "outputs": [
        {
          "output_type": "execute_result",
          "data": {
            "text/html": [
              "<div>\n",
              "<style scoped>\n",
              "    .dataframe tbody tr th:only-of-type {\n",
              "        vertical-align: middle;\n",
              "    }\n",
              "\n",
              "    .dataframe tbody tr th {\n",
              "        vertical-align: top;\n",
              "    }\n",
              "\n",
              "    .dataframe thead th {\n",
              "        text-align: right;\n",
              "    }\n",
              "</style>\n",
              "<table border=\"1\" class=\"dataframe\">\n",
              "  <thead>\n",
              "    <tr style=\"text-align: right;\">\n",
              "      <th></th>\n",
              "      <th>gene_id</th>\n",
              "      <th>value_1</th>\n",
              "      <th>value_2</th>\n",
              "      <th>log2(fold_change)</th>\n",
              "      <th>p_value</th>\n",
              "      <th>q_value</th>\n",
              "    </tr>\n",
              "  </thead>\n",
              "  <tbody>\n",
              "    <tr>\n",
              "      <th>20560</th>\n",
              "      <td>Mmp9</td>\n",
              "      <td>0.088896</td>\n",
              "      <td>6.75021</td>\n",
              "      <td>6.24667</td>\n",
              "      <td>0.00005</td>\n",
              "      <td>0.00031</td>\n",
              "    </tr>\n",
              "  </tbody>\n",
              "</table>\n",
              "</div>"
            ],
            "text/plain": [
              "      gene_id   value_1  value_2  log2(fold_change)  p_value  q_value\n",
              "20560    Mmp9  0.088896  6.75021            6.24667  0.00005  0.00031"
            ]
          },
          "metadata": {},
          "execution_count": 11
        }
      ],
      "metadata": {
        "id": "DQzQ6tfs-n-z",
        "colab": {
          "base_uri": "https://localhost:8080/",
          "height": 80
        },
        "outputId": "478b0f2f-5c4c-4005-dab9-db48ef063cf7"
      }
    },
    {
      "cell_type": "code",
      "execution_count": 12,
      "source": [
        "# 発現量（Expression, ex） の閾値\n",
        "threshold_ex = 2"
      ],
      "outputs": [],
      "metadata": {
        "id": "VAWZhr8zAluo"
      }
    },
    {
      "cell_type": "code",
      "execution_count": 13,
      "source": [
        "# とある条件で腫瘍組織内間質細胞で発現上昇する遺伝子をフィルタリング\n",
        "deg_macrophage_tumor = deg_macrophage.query('value_2 > @threshold_ex & `log2(fold_change)` > @threshold_fc & q_value < @threshold_qv')\n",
        "\n",
        "# 何行 (何遺伝子)\n",
        "deg_macrophage_tumor.shape"
      ],
      "outputs": [
        {
          "output_type": "execute_result",
          "data": {
            "text/plain": [
              "(1921, 6)"
            ]
          },
          "metadata": {},
          "execution_count": 13
        }
      ],
      "metadata": {
        "id": "GGoTJ49OzNkj",
        "colab": {
          "base_uri": "https://localhost:8080/"
        },
        "outputId": "e534f88d-6439-4ff4-fef3-26e1eeedbe3b"
      }
    },
    {
      "cell_type": "markdown",
      "source": [
        "------\n",
        "\n",
        "------\n",
        "\n"
      ],
      "metadata": {
        "id": "0sLF8PDwzNkg"
      }
    },
    {
      "cell_type": "markdown",
      "source": [
        "\n",
        "\n",
        "## **テーブルデータ2：腫瘍組織で発現している遺伝子のリストを得る**"
      ],
      "metadata": {
        "id": "W_NHEy9wzNkh"
      }
    },
    {
      "cell_type": "markdown",
      "source": [
        "\n",
        "腫瘍細胞で発現する遺伝子のリストを読み込みます。\n",
        "２つの列を使います。\n",
        "\n",
        "- `trackig_id`: 遺伝子名\n",
        "- `FPKM`: 遺伝子発現量（値が高いほどたくさんmRNAがある)"
      ],
      "metadata": {
        "id": "-DBVmm4EzNkl"
      }
    },
    {
      "cell_type": "code",
      "execution_count": 14,
      "source": [
        "# 遺伝子発現量 (FPKM) をまとめた表を読み込む (Cufflinksの出力だとおもう)\n",
        "url_fpkm_epi = \"https://raw.githubusercontent.com/bioinfo-tsukuba/AdvancedCourse2021/main/3/data/CCCExplorer/EP_output/genes.read_group_tracking\"\n",
        "\n",
        "fpkm_epi = pd.read_csv(url_fpkm_epi, sep=\"\\t\")"
      ],
      "outputs": [],
      "metadata": {
        "id": "Vz-XPRdhA_BI"
      }
    },
    {
      "cell_type": "code",
      "execution_count": 15,
      "source": [
        "# 行数、何数を調べる\n",
        "fpkm_epi.shape"
      ],
      "outputs": [
        {
          "output_type": "execute_result",
          "data": {
            "text/plain": [
              "(184458, 9)"
            ]
          },
          "metadata": {},
          "execution_count": 15
        }
      ],
      "metadata": {
        "id": "64yqTdr0BAC1",
        "colab": {
          "base_uri": "https://localhost:8080/"
        },
        "outputId": "741a9dfc-47d4-435e-ea8a-b17d38101ac3"
      }
    },
    {
      "cell_type": "code",
      "execution_count": 16,
      "source": [
        "# データの頭の部分だけ確認\n",
        "fpkm_epi.head()"
      ],
      "outputs": [
        {
          "output_type": "execute_result",
          "data": {
            "text/html": [
              "<div>\n",
              "<style scoped>\n",
              "    .dataframe tbody tr th:only-of-type {\n",
              "        vertical-align: middle;\n",
              "    }\n",
              "\n",
              "    .dataframe tbody tr th {\n",
              "        vertical-align: top;\n",
              "    }\n",
              "\n",
              "    .dataframe thead th {\n",
              "        text-align: right;\n",
              "    }\n",
              "</style>\n",
              "<table border=\"1\" class=\"dataframe\">\n",
              "  <thead>\n",
              "    <tr style=\"text-align: right;\">\n",
              "      <th></th>\n",
              "      <th>tracking_id</th>\n",
              "      <th>condition</th>\n",
              "      <th>replicate</th>\n",
              "      <th>raw_frags</th>\n",
              "      <th>internal_scaled_frags</th>\n",
              "      <th>external_scaled_frags</th>\n",
              "      <th>FPKM</th>\n",
              "      <th>effective_length</th>\n",
              "      <th>status</th>\n",
              "    </tr>\n",
              "  </thead>\n",
              "  <tbody>\n",
              "    <tr>\n",
              "      <th>0</th>\n",
              "      <td>0610005C13Rik</td>\n",
              "      <td>q1</td>\n",
              "      <td>1</td>\n",
              "      <td>11.0</td>\n",
              "      <td>12.99970</td>\n",
              "      <td>12.99970</td>\n",
              "      <td>0.499583</td>\n",
              "      <td>-</td>\n",
              "      <td>OK</td>\n",
              "    </tr>\n",
              "    <tr>\n",
              "      <th>1</th>\n",
              "      <td>0610005C13Rik</td>\n",
              "      <td>q1</td>\n",
              "      <td>0</td>\n",
              "      <td>3.0</td>\n",
              "      <td>4.10373</td>\n",
              "      <td>4.10373</td>\n",
              "      <td>0.122142</td>\n",
              "      <td>-</td>\n",
              "      <td>OK</td>\n",
              "    </tr>\n",
              "    <tr>\n",
              "      <th>2</th>\n",
              "      <td>0610005C13Rik</td>\n",
              "      <td>q1</td>\n",
              "      <td>2</td>\n",
              "      <td>0.0</td>\n",
              "      <td>0.00000</td>\n",
              "      <td>0.00000</td>\n",
              "      <td>0.000000</td>\n",
              "      <td>-</td>\n",
              "      <td>OK</td>\n",
              "    </tr>\n",
              "    <tr>\n",
              "      <th>3</th>\n",
              "      <td>0610005C13Rik</td>\n",
              "      <td>q2</td>\n",
              "      <td>1</td>\n",
              "      <td>14.0</td>\n",
              "      <td>12.69620</td>\n",
              "      <td>12.69620</td>\n",
              "      <td>0.377883</td>\n",
              "      <td>-</td>\n",
              "      <td>OK</td>\n",
              "    </tr>\n",
              "    <tr>\n",
              "      <th>4</th>\n",
              "      <td>0610005C13Rik</td>\n",
              "      <td>q2</td>\n",
              "      <td>0</td>\n",
              "      <td>12.0</td>\n",
              "      <td>8.66261</td>\n",
              "      <td>8.66261</td>\n",
              "      <td>0.257830</td>\n",
              "      <td>-</td>\n",
              "      <td>OK</td>\n",
              "    </tr>\n",
              "  </tbody>\n",
              "</table>\n",
              "</div>"
            ],
            "text/plain": [
              "     tracking_id condition  replicate  ...      FPKM  effective_length  status\n",
              "0  0610005C13Rik        q1          1  ...  0.499583                 -      OK\n",
              "1  0610005C13Rik        q1          0  ...  0.122142                 -      OK\n",
              "2  0610005C13Rik        q1          2  ...  0.000000                 -      OK\n",
              "3  0610005C13Rik        q2          1  ...  0.377883                 -      OK\n",
              "4  0610005C13Rik        q2          0  ...  0.257830                 -      OK\n",
              "\n",
              "[5 rows x 9 columns]"
            ]
          },
          "metadata": {},
          "execution_count": 16
        }
      ],
      "metadata": {
        "id": "vfCLVEvnA_ph",
        "colab": {
          "base_uri": "https://localhost:8080/",
          "height": 204
        },
        "outputId": "8f7a3240-1997-41b1-faf8-42e94896f017"
      }
    },
    {
      "cell_type": "code",
      "execution_count": 17,
      "source": [
        "# 使いやすいように、使いたい列だけにする\n",
        "fpkm_epi = fpkm_epi[['tracking_id', 'FPKM']]\n",
        "\n",
        "fpkm_epi.head()"
      ],
      "outputs": [
        {
          "output_type": "execute_result",
          "data": {
            "text/html": [
              "<div>\n",
              "<style scoped>\n",
              "    .dataframe tbody tr th:only-of-type {\n",
              "        vertical-align: middle;\n",
              "    }\n",
              "\n",
              "    .dataframe tbody tr th {\n",
              "        vertical-align: top;\n",
              "    }\n",
              "\n",
              "    .dataframe thead th {\n",
              "        text-align: right;\n",
              "    }\n",
              "</style>\n",
              "<table border=\"1\" class=\"dataframe\">\n",
              "  <thead>\n",
              "    <tr style=\"text-align: right;\">\n",
              "      <th></th>\n",
              "      <th>tracking_id</th>\n",
              "      <th>FPKM</th>\n",
              "    </tr>\n",
              "  </thead>\n",
              "  <tbody>\n",
              "    <tr>\n",
              "      <th>0</th>\n",
              "      <td>0610005C13Rik</td>\n",
              "      <td>0.499583</td>\n",
              "    </tr>\n",
              "    <tr>\n",
              "      <th>1</th>\n",
              "      <td>0610005C13Rik</td>\n",
              "      <td>0.122142</td>\n",
              "    </tr>\n",
              "    <tr>\n",
              "      <th>2</th>\n",
              "      <td>0610005C13Rik</td>\n",
              "      <td>0.000000</td>\n",
              "    </tr>\n",
              "    <tr>\n",
              "      <th>3</th>\n",
              "      <td>0610005C13Rik</td>\n",
              "      <td>0.377883</td>\n",
              "    </tr>\n",
              "    <tr>\n",
              "      <th>4</th>\n",
              "      <td>0610005C13Rik</td>\n",
              "      <td>0.257830</td>\n",
              "    </tr>\n",
              "  </tbody>\n",
              "</table>\n",
              "</div>"
            ],
            "text/plain": [
              "     tracking_id      FPKM\n",
              "0  0610005C13Rik  0.499583\n",
              "1  0610005C13Rik  0.122142\n",
              "2  0610005C13Rik  0.000000\n",
              "3  0610005C13Rik  0.377883\n",
              "4  0610005C13Rik  0.257830"
            ]
          },
          "metadata": {},
          "execution_count": 17
        }
      ],
      "metadata": {
        "id": "bfqWogtVA_4W",
        "colab": {
          "base_uri": "https://localhost:8080/",
          "height": 204
        },
        "outputId": "c67b19fe-2d31-49fb-d304-4a99a94bfe8e"
      }
    },
    {
      "cell_type": "code",
      "execution_count": 18,
      "source": [
        "# とある条件で腫瘍細胞で発現する遺伝子をフィルタリング\n",
        "fpkm_epi_tumor = fpkm_epi.query('FPKM > @threshold_ex')\n",
        "\n",
        "fpkm_epi_tumor.shape"
      ],
      "outputs": [
        {
          "output_type": "execute_result",
          "data": {
            "text/plain": [
              "(72437, 2)"
            ]
          },
          "metadata": {},
          "execution_count": 18
        }
      ],
      "metadata": {
        "id": "OwUjm2GbA_fr",
        "colab": {
          "base_uri": "https://localhost:8080/"
        },
        "outputId": "b06089bf-68f8-4a06-c29f-7d47fa84e258"
      }
    },
    {
      "cell_type": "markdown",
      "source": [
        "## **テーブルデータ３：ヒト-マウスのオーソログ関係の取得**\n",
        "\n",
        "`data/CCCExplorer/HOM_MouseHumanSequence.rpt` は Mouse Genome Informatics database から取得されたヒト-マウスオーソログリスト"
      ],
      "metadata": {
        "id": "2qkpPGRbzNkp"
      }
    },
    {
      "cell_type": "code",
      "execution_count": 19,
      "source": [
        "# データの読み込み\n",
        "url_hom = 'https://raw.githubusercontent.com/bioinfo-tsukuba/AdvancedCourse2021/main/3/data/CCCExplorer/HOM_MouseHumanSequence.rpt'\n",
        "\n",
        "dfhom = pd.read_csv(url_hom, sep=\"\\t\")\n",
        "\n",
        "# 何行何列\n",
        "dfhom.shape"
      ],
      "outputs": [
        {
          "output_type": "execute_result",
          "data": {
            "text/plain": [
              "(39522, 13)"
            ]
          },
          "metadata": {},
          "execution_count": 19
        }
      ],
      "metadata": {
        "scrolled": true,
        "id": "KmQNInlHzNkp",
        "colab": {
          "base_uri": "https://localhost:8080/"
        },
        "outputId": "299e4883-dd7b-42a8-adf1-2337e9871ce4"
      }
    },
    {
      "cell_type": "code",
      "execution_count": 20,
      "source": [
        "# データの頭をみる\n",
        "dfhom.head()"
      ],
      "outputs": [
        {
          "output_type": "execute_result",
          "data": {
            "text/html": [
              "<div>\n",
              "<style scoped>\n",
              "    .dataframe tbody tr th:only-of-type {\n",
              "        vertical-align: middle;\n",
              "    }\n",
              "\n",
              "    .dataframe tbody tr th {\n",
              "        vertical-align: top;\n",
              "    }\n",
              "\n",
              "    .dataframe thead th {\n",
              "        text-align: right;\n",
              "    }\n",
              "</style>\n",
              "<table border=\"1\" class=\"dataframe\">\n",
              "  <thead>\n",
              "    <tr style=\"text-align: right;\">\n",
              "      <th></th>\n",
              "      <th>HomoloGene ID</th>\n",
              "      <th>Common Organism Name</th>\n",
              "      <th>NCBI Taxon ID</th>\n",
              "      <th>Symbol</th>\n",
              "      <th>EntrezGene ID</th>\n",
              "      <th>Mouse MGI ID</th>\n",
              "      <th>HGNC ID</th>\n",
              "      <th>OMIM Gene ID</th>\n",
              "      <th>Genetic Location</th>\n",
              "      <th>Genomic Coordinates (mouse: GRCm38, human: GRCh37.p10)</th>\n",
              "      <th>Nucleotide RefSeq IDs</th>\n",
              "      <th>Protein RefSeq IDs</th>\n",
              "      <th>SWISS_PROT IDs</th>\n",
              "    </tr>\n",
              "  </thead>\n",
              "  <tbody>\n",
              "    <tr>\n",
              "      <th>0</th>\n",
              "      <td>3</td>\n",
              "      <td>mouse, laboratory</td>\n",
              "      <td>10090</td>\n",
              "      <td>Acadm</td>\n",
              "      <td>11364</td>\n",
              "      <td>MGI:87867</td>\n",
              "      <td>NaN</td>\n",
              "      <td>NaN</td>\n",
              "      <td>Chr3 78.77 cM</td>\n",
              "      <td>Chr3:153922357-153944632(-)</td>\n",
              "      <td>NM_007382</td>\n",
              "      <td>NP_031408</td>\n",
              "      <td>P45952</td>\n",
              "    </tr>\n",
              "    <tr>\n",
              "      <th>1</th>\n",
              "      <td>3</td>\n",
              "      <td>human</td>\n",
              "      <td>9606</td>\n",
              "      <td>ACADM</td>\n",
              "      <td>34</td>\n",
              "      <td>NaN</td>\n",
              "      <td>HGNC:89</td>\n",
              "      <td>607008.0</td>\n",
              "      <td>Chr1 p31</td>\n",
              "      <td>Chr1:76190043-76229355(+)</td>\n",
              "      <td>NM_000016,NM_001127328</td>\n",
              "      <td>NP_000007,NP_001120800,XP_005270868,XP_0052708...</td>\n",
              "      <td>P11310</td>\n",
              "    </tr>\n",
              "    <tr>\n",
              "      <th>2</th>\n",
              "      <td>5</td>\n",
              "      <td>mouse, laboratory</td>\n",
              "      <td>10090</td>\n",
              "      <td>Acadvl</td>\n",
              "      <td>11370</td>\n",
              "      <td>MGI:895149</td>\n",
              "      <td>NaN</td>\n",
              "      <td>NaN</td>\n",
              "      <td>Chr11 42.96 cM</td>\n",
              "      <td>Chr11:70010183-70015411(-)</td>\n",
              "      <td>NM_017366</td>\n",
              "      <td>NP_059062</td>\n",
              "      <td>P50544</td>\n",
              "    </tr>\n",
              "    <tr>\n",
              "      <th>3</th>\n",
              "      <td>5</td>\n",
              "      <td>human</td>\n",
              "      <td>9606</td>\n",
              "      <td>ACADVL</td>\n",
              "      <td>37</td>\n",
              "      <td>NaN</td>\n",
              "      <td>HGNC:92</td>\n",
              "      <td>609575.0</td>\n",
              "      <td>Chr17 p13.1</td>\n",
              "      <td>Chr17:7120444-7128586(+)</td>\n",
              "      <td>NM_000018,NM_001033859,NM_001270447,NM_001270448</td>\n",
              "      <td>NP_000009,NP_001029031,NP_001257376,NP_001257377</td>\n",
              "      <td>P49748</td>\n",
              "    </tr>\n",
              "    <tr>\n",
              "      <th>4</th>\n",
              "      <td>6</td>\n",
              "      <td>mouse, laboratory</td>\n",
              "      <td>10090</td>\n",
              "      <td>Acat1</td>\n",
              "      <td>110446</td>\n",
              "      <td>MGI:87870</td>\n",
              "      <td>NaN</td>\n",
              "      <td>NaN</td>\n",
              "      <td>Chr9 29.12 cM</td>\n",
              "      <td>Chr9:53580522-53610382(-)</td>\n",
              "      <td>NM_144784</td>\n",
              "      <td>NP_659033</td>\n",
              "      <td>Q8QZT1</td>\n",
              "    </tr>\n",
              "  </tbody>\n",
              "</table>\n",
              "</div>"
            ],
            "text/plain": [
              "   HomoloGene ID  ... SWISS_PROT IDs\n",
              "0              3  ...         P45952\n",
              "1              3  ...         P11310\n",
              "2              5  ...         P50544\n",
              "3              5  ...         P49748\n",
              "4              6  ...         Q8QZT1\n",
              "\n",
              "[5 rows x 13 columns]"
            ]
          },
          "metadata": {},
          "execution_count": 20
        }
      ],
      "metadata": {
        "id": "RnVUh5Phvl8W",
        "colab": {
          "base_uri": "https://localhost:8080/",
          "height": 428
        },
        "outputId": "911ce2cf-0def-445c-8264-d5843ba489c1"
      }
    },
    {
      "cell_type": "code",
      "execution_count": 21,
      "source": [
        "# 使いやすいように、使いたい列だけにする\n",
        "dfhom = dfhom[['HomoloGene ID', 'Symbol', 'Common Organism Name']]\n",
        "\n",
        "# 確認\n",
        "dfhom.head()"
      ],
      "outputs": [
        {
          "output_type": "execute_result",
          "data": {
            "text/html": [
              "<div>\n",
              "<style scoped>\n",
              "    .dataframe tbody tr th:only-of-type {\n",
              "        vertical-align: middle;\n",
              "    }\n",
              "\n",
              "    .dataframe tbody tr th {\n",
              "        vertical-align: top;\n",
              "    }\n",
              "\n",
              "    .dataframe thead th {\n",
              "        text-align: right;\n",
              "    }\n",
              "</style>\n",
              "<table border=\"1\" class=\"dataframe\">\n",
              "  <thead>\n",
              "    <tr style=\"text-align: right;\">\n",
              "      <th></th>\n",
              "      <th>HomoloGene ID</th>\n",
              "      <th>Symbol</th>\n",
              "      <th>Common Organism Name</th>\n",
              "    </tr>\n",
              "  </thead>\n",
              "  <tbody>\n",
              "    <tr>\n",
              "      <th>0</th>\n",
              "      <td>3</td>\n",
              "      <td>Acadm</td>\n",
              "      <td>mouse, laboratory</td>\n",
              "    </tr>\n",
              "    <tr>\n",
              "      <th>1</th>\n",
              "      <td>3</td>\n",
              "      <td>ACADM</td>\n",
              "      <td>human</td>\n",
              "    </tr>\n",
              "    <tr>\n",
              "      <th>2</th>\n",
              "      <td>5</td>\n",
              "      <td>Acadvl</td>\n",
              "      <td>mouse, laboratory</td>\n",
              "    </tr>\n",
              "    <tr>\n",
              "      <th>3</th>\n",
              "      <td>5</td>\n",
              "      <td>ACADVL</td>\n",
              "      <td>human</td>\n",
              "    </tr>\n",
              "    <tr>\n",
              "      <th>4</th>\n",
              "      <td>6</td>\n",
              "      <td>Acat1</td>\n",
              "      <td>mouse, laboratory</td>\n",
              "    </tr>\n",
              "  </tbody>\n",
              "</table>\n",
              "</div>"
            ],
            "text/plain": [
              "   HomoloGene ID  Symbol Common Organism Name\n",
              "0              3   Acadm    mouse, laboratory\n",
              "1              3   ACADM                human\n",
              "2              5  Acadvl    mouse, laboratory\n",
              "3              5  ACADVL                human\n",
              "4              6   Acat1    mouse, laboratory"
            ]
          },
          "metadata": {},
          "execution_count": 21
        }
      ],
      "metadata": {
        "id": "xcU54oB1zNkr",
        "colab": {
          "base_uri": "https://localhost:8080/",
          "height": 204
        },
        "outputId": "0e143427-bbab-4252-a23b-88da48cceb5c"
      }
    },
    {
      "cell_type": "markdown",
      "source": [
        "## **テーブルデータ4：リガンド-受容体関係のデータ**\n",
        "\n",
        "（`From` がリガンドで、 `To` が受容体）\n"
      ],
      "metadata": {
        "id": "bDxnLxmDzNku"
      }
    },
    {
      "cell_type": "code",
      "execution_count": 22,
      "source": [
        "# 読み込み\n",
        "url_lr = 'https://raw.githubusercontent.com/bioinfo-tsukuba/AdvancedCourse2021/main/3/data/CCCExplorer/LR_manual_revised.txt'\n",
        "dflr =  pd.read_csv(url_lr, sep='\\t')\n",
        "\n",
        "# 何行何列\n",
        "dflr.shape"
      ],
      "outputs": [
        {
          "output_type": "execute_result",
          "data": {
            "text/plain": [
              "(1427, 2)"
            ]
          },
          "metadata": {},
          "execution_count": 22
        }
      ],
      "metadata": {
        "id": "ev4eXiMvzNkv",
        "colab": {
          "base_uri": "https://localhost:8080/"
        },
        "outputId": "4706f4d3-fd32-44c2-e287-35ebd5dde0a5"
      }
    },
    {
      "cell_type": "code",
      "execution_count": 23,
      "source": [
        "# 最初の５行\n",
        "dflr.head()"
      ],
      "outputs": [
        {
          "output_type": "execute_result",
          "data": {
            "text/html": [
              "<div>\n",
              "<style scoped>\n",
              "    .dataframe tbody tr th:only-of-type {\n",
              "        vertical-align: middle;\n",
              "    }\n",
              "\n",
              "    .dataframe tbody tr th {\n",
              "        vertical-align: top;\n",
              "    }\n",
              "\n",
              "    .dataframe thead th {\n",
              "        text-align: right;\n",
              "    }\n",
              "</style>\n",
              "<table border=\"1\" class=\"dataframe\">\n",
              "  <thead>\n",
              "    <tr style=\"text-align: right;\">\n",
              "      <th></th>\n",
              "      <th>From</th>\n",
              "      <th>To</th>\n",
              "    </tr>\n",
              "  </thead>\n",
              "  <tbody>\n",
              "    <tr>\n",
              "      <th>0</th>\n",
              "      <td>CCK</td>\n",
              "      <td>CCKAR</td>\n",
              "    </tr>\n",
              "    <tr>\n",
              "      <th>1</th>\n",
              "      <td>GAST</td>\n",
              "      <td>CCKBR</td>\n",
              "    </tr>\n",
              "    <tr>\n",
              "      <th>2</th>\n",
              "      <td>GRP</td>\n",
              "      <td>GRPR</td>\n",
              "    </tr>\n",
              "    <tr>\n",
              "      <th>3</th>\n",
              "      <td>IL17F</td>\n",
              "      <td>IL17RA</td>\n",
              "    </tr>\n",
              "    <tr>\n",
              "      <th>4</th>\n",
              "      <td>NTN1</td>\n",
              "      <td>DSCAM</td>\n",
              "    </tr>\n",
              "  </tbody>\n",
              "</table>\n",
              "</div>"
            ],
            "text/plain": [
              "    From      To\n",
              "0    CCK   CCKAR\n",
              "1   GAST   CCKBR\n",
              "2    GRP    GRPR\n",
              "3  IL17F  IL17RA\n",
              "4   NTN1   DSCAM"
            ]
          },
          "metadata": {},
          "execution_count": 23
        }
      ],
      "metadata": {
        "id": "Eb0Yll4H1Q6k",
        "colab": {
          "base_uri": "https://localhost:8080/",
          "height": 204
        },
        "outputId": "356249cf-97a2-4d14-9ff1-a26dfc6ad519"
      }
    },
    {
      "cell_type": "markdown",
      "source": [
        "## **データの読み込みのまとめ**"
      ],
      "metadata": {
        "id": "2zWYutXu7ear"
      }
    },
    {
      "cell_type": "markdown",
      "source": [
        "### テーブルデータ１：腫瘍組織内間質細胞で発現上昇する遺伝子のリスト `deg_macrophage_tumor`\n",
        "\n",
        "\n"
      ],
      "metadata": {
        "id": "a9MhoXyK7yi6"
      }
    },
    {
      "cell_type": "code",
      "execution_count": 24,
      "source": [
        "# 何行 (何遺伝子)\n",
        "print(deg_macrophage_tumor.shape)\n",
        "\n",
        "# 最初の５行を表示\n",
        "deg_macrophage_tumor.head()\n"
      ],
      "outputs": [
        {
          "output_type": "stream",
          "name": "stdout",
          "text": [
            "(1921, 6)\n"
          ]
        },
        {
          "output_type": "execute_result",
          "data": {
            "text/html": [
              "<div>\n",
              "<style scoped>\n",
              "    .dataframe tbody tr th:only-of-type {\n",
              "        vertical-align: middle;\n",
              "    }\n",
              "\n",
              "    .dataframe tbody tr th {\n",
              "        vertical-align: top;\n",
              "    }\n",
              "\n",
              "    .dataframe thead th {\n",
              "        text-align: right;\n",
              "    }\n",
              "</style>\n",
              "<table border=\"1\" class=\"dataframe\">\n",
              "  <thead>\n",
              "    <tr style=\"text-align: right;\">\n",
              "      <th></th>\n",
              "      <th>gene_id</th>\n",
              "      <th>value_1</th>\n",
              "      <th>value_2</th>\n",
              "      <th>log2(fold_change)</th>\n",
              "      <th>p_value</th>\n",
              "      <th>q_value</th>\n",
              "    </tr>\n",
              "  </thead>\n",
              "  <tbody>\n",
              "    <tr>\n",
              "      <th>15</th>\n",
              "      <td>0610010O12Rik</td>\n",
              "      <td>4.19646</td>\n",
              "      <td>8.98632</td>\n",
              "      <td>1.098560</td>\n",
              "      <td>0.00095</td>\n",
              "      <td>0.004437</td>\n",
              "    </tr>\n",
              "    <tr>\n",
              "      <th>21</th>\n",
              "      <td>0610031J06Rik</td>\n",
              "      <td>95.85410</td>\n",
              "      <td>144.76100</td>\n",
              "      <td>0.594760</td>\n",
              "      <td>0.00020</td>\n",
              "      <td>0.001113</td>\n",
              "    </tr>\n",
              "    <tr>\n",
              "      <th>30</th>\n",
              "      <td>0610040J01Rik</td>\n",
              "      <td>1.49871</td>\n",
              "      <td>3.08289</td>\n",
              "      <td>1.040560</td>\n",
              "      <td>0.00420</td>\n",
              "      <td>0.016218</td>\n",
              "    </tr>\n",
              "    <tr>\n",
              "      <th>36</th>\n",
              "      <td>1110002B05Rik</td>\n",
              "      <td>39.23150</td>\n",
              "      <td>69.53890</td>\n",
              "      <td>0.825809</td>\n",
              "      <td>0.00005</td>\n",
              "      <td>0.000310</td>\n",
              "    </tr>\n",
              "    <tr>\n",
              "      <th>39</th>\n",
              "      <td>1110003E01Rik</td>\n",
              "      <td>20.49960</td>\n",
              "      <td>34.26780</td>\n",
              "      <td>0.741253</td>\n",
              "      <td>0.00005</td>\n",
              "      <td>0.000310</td>\n",
              "    </tr>\n",
              "  </tbody>\n",
              "</table>\n",
              "</div>"
            ],
            "text/plain": [
              "          gene_id   value_1    value_2  log2(fold_change)  p_value   q_value\n",
              "15  0610010O12Rik   4.19646    8.98632           1.098560  0.00095  0.004437\n",
              "21  0610031J06Rik  95.85410  144.76100           0.594760  0.00020  0.001113\n",
              "30  0610040J01Rik   1.49871    3.08289           1.040560  0.00420  0.016218\n",
              "36  1110002B05Rik  39.23150   69.53890           0.825809  0.00005  0.000310\n",
              "39  1110003E01Rik  20.49960   34.26780           0.741253  0.00005  0.000310"
            ]
          },
          "metadata": {},
          "execution_count": 24
        }
      ],
      "metadata": {
        "colab": {
          "base_uri": "https://localhost:8080/",
          "height": 221
        },
        "id": "9EXEj2ml7dUe",
        "outputId": "053dacf3-21d5-45c0-9cb2-c1579b73a0b4"
      }
    },
    {
      "cell_type": "markdown",
      "source": [
        "### テーブルデータ２：腫瘍細胞において発現している遺伝子のリスト `fpkm_epi_tumor` "
      ],
      "metadata": {
        "id": "31qz9xuo7-17"
      }
    },
    {
      "cell_type": "code",
      "execution_count": 25,
      "source": [
        "# 何行何列\n",
        "print(fpkm_epi_tumor.shape)\n",
        "\n",
        "# 最初の５行を表示\n",
        "fpkm_epi_tumor.head()"
      ],
      "outputs": [
        {
          "output_type": "stream",
          "name": "stdout",
          "text": [
            "(72437, 2)\n"
          ]
        },
        {
          "output_type": "execute_result",
          "data": {
            "text/html": [
              "<div>\n",
              "<style scoped>\n",
              "    .dataframe tbody tr th:only-of-type {\n",
              "        vertical-align: middle;\n",
              "    }\n",
              "\n",
              "    .dataframe tbody tr th {\n",
              "        vertical-align: top;\n",
              "    }\n",
              "\n",
              "    .dataframe thead th {\n",
              "        text-align: right;\n",
              "    }\n",
              "</style>\n",
              "<table border=\"1\" class=\"dataframe\">\n",
              "  <thead>\n",
              "    <tr style=\"text-align: right;\">\n",
              "      <th></th>\n",
              "      <th>tracking_id</th>\n",
              "      <th>FPKM</th>\n",
              "    </tr>\n",
              "  </thead>\n",
              "  <tbody>\n",
              "    <tr>\n",
              "      <th>6</th>\n",
              "      <td>0610007C21Rik</td>\n",
              "      <td>46.5889</td>\n",
              "    </tr>\n",
              "    <tr>\n",
              "      <th>7</th>\n",
              "      <td>0610007C21Rik</td>\n",
              "      <td>63.4719</td>\n",
              "    </tr>\n",
              "    <tr>\n",
              "      <th>8</th>\n",
              "      <td>0610007C21Rik</td>\n",
              "      <td>80.0110</td>\n",
              "    </tr>\n",
              "    <tr>\n",
              "      <th>9</th>\n",
              "      <td>0610007C21Rik</td>\n",
              "      <td>59.6297</td>\n",
              "    </tr>\n",
              "    <tr>\n",
              "      <th>10</th>\n",
              "      <td>0610007C21Rik</td>\n",
              "      <td>49.4234</td>\n",
              "    </tr>\n",
              "  </tbody>\n",
              "</table>\n",
              "</div>"
            ],
            "text/plain": [
              "      tracking_id     FPKM\n",
              "6   0610007C21Rik  46.5889\n",
              "7   0610007C21Rik  63.4719\n",
              "8   0610007C21Rik  80.0110\n",
              "9   0610007C21Rik  59.6297\n",
              "10  0610007C21Rik  49.4234"
            ]
          },
          "metadata": {},
          "execution_count": 25
        }
      ],
      "metadata": {
        "colab": {
          "base_uri": "https://localhost:8080/",
          "height": 221
        },
        "id": "d97k-3647-9h",
        "outputId": "e0252769-aaa9-46f2-cc27-25c9d43dfff9"
      }
    },
    {
      "cell_type": "markdown",
      "source": [
        "### テーブルデータ３：ヒト-マウスのオーソログ関係 `dfhom`"
      ],
      "metadata": {
        "id": "GVtvVaUa7_FC"
      }
    },
    {
      "cell_type": "code",
      "execution_count": 26,
      "source": [
        "# 何行何列\n",
        "print(dfhom.shape)\n",
        "\n",
        "# 最初の５行を表示\n",
        "dfhom.head()"
      ],
      "outputs": [
        {
          "output_type": "stream",
          "name": "stdout",
          "text": [
            "(39522, 3)\n"
          ]
        },
        {
          "output_type": "execute_result",
          "data": {
            "text/html": [
              "<div>\n",
              "<style scoped>\n",
              "    .dataframe tbody tr th:only-of-type {\n",
              "        vertical-align: middle;\n",
              "    }\n",
              "\n",
              "    .dataframe tbody tr th {\n",
              "        vertical-align: top;\n",
              "    }\n",
              "\n",
              "    .dataframe thead th {\n",
              "        text-align: right;\n",
              "    }\n",
              "</style>\n",
              "<table border=\"1\" class=\"dataframe\">\n",
              "  <thead>\n",
              "    <tr style=\"text-align: right;\">\n",
              "      <th></th>\n",
              "      <th>HomoloGene ID</th>\n",
              "      <th>Symbol</th>\n",
              "      <th>Common Organism Name</th>\n",
              "    </tr>\n",
              "  </thead>\n",
              "  <tbody>\n",
              "    <tr>\n",
              "      <th>0</th>\n",
              "      <td>3</td>\n",
              "      <td>Acadm</td>\n",
              "      <td>mouse, laboratory</td>\n",
              "    </tr>\n",
              "    <tr>\n",
              "      <th>1</th>\n",
              "      <td>3</td>\n",
              "      <td>ACADM</td>\n",
              "      <td>human</td>\n",
              "    </tr>\n",
              "    <tr>\n",
              "      <th>2</th>\n",
              "      <td>5</td>\n",
              "      <td>Acadvl</td>\n",
              "      <td>mouse, laboratory</td>\n",
              "    </tr>\n",
              "    <tr>\n",
              "      <th>3</th>\n",
              "      <td>5</td>\n",
              "      <td>ACADVL</td>\n",
              "      <td>human</td>\n",
              "    </tr>\n",
              "    <tr>\n",
              "      <th>4</th>\n",
              "      <td>6</td>\n",
              "      <td>Acat1</td>\n",
              "      <td>mouse, laboratory</td>\n",
              "    </tr>\n",
              "  </tbody>\n",
              "</table>\n",
              "</div>"
            ],
            "text/plain": [
              "   HomoloGene ID  Symbol Common Organism Name\n",
              "0              3   Acadm    mouse, laboratory\n",
              "1              3   ACADM                human\n",
              "2              5  Acadvl    mouse, laboratory\n",
              "3              5  ACADVL                human\n",
              "4              6   Acat1    mouse, laboratory"
            ]
          },
          "metadata": {},
          "execution_count": 26
        }
      ],
      "metadata": {
        "colab": {
          "base_uri": "https://localhost:8080/",
          "height": 221
        },
        "id": "9yxCak_G7_MM",
        "outputId": "cdd2e952-22c2-4fc1-d721-08f850debf91"
      }
    },
    {
      "cell_type": "markdown",
      "source": [
        "### テーブルデータ４：リガンド-受容体関係のデータ `dflr`\n",
        "\n",
        "- `From` がリガンド遺伝子\n",
        "- `To` が受容体遺伝子"
      ],
      "metadata": {
        "id": "GbjICpoN7_TN"
      }
    },
    {
      "cell_type": "code",
      "execution_count": 27,
      "source": [
        "# 何行何列\n",
        "print(dflr.shape)\n",
        "\n",
        "# 最初の５行を表示\n",
        "dflr.head()"
      ],
      "outputs": [
        {
          "output_type": "stream",
          "name": "stdout",
          "text": [
            "(1427, 2)\n"
          ]
        },
        {
          "output_type": "execute_result",
          "data": {
            "text/html": [
              "<div>\n",
              "<style scoped>\n",
              "    .dataframe tbody tr th:only-of-type {\n",
              "        vertical-align: middle;\n",
              "    }\n",
              "\n",
              "    .dataframe tbody tr th {\n",
              "        vertical-align: top;\n",
              "    }\n",
              "\n",
              "    .dataframe thead th {\n",
              "        text-align: right;\n",
              "    }\n",
              "</style>\n",
              "<table border=\"1\" class=\"dataframe\">\n",
              "  <thead>\n",
              "    <tr style=\"text-align: right;\">\n",
              "      <th></th>\n",
              "      <th>From</th>\n",
              "      <th>To</th>\n",
              "    </tr>\n",
              "  </thead>\n",
              "  <tbody>\n",
              "    <tr>\n",
              "      <th>0</th>\n",
              "      <td>CCK</td>\n",
              "      <td>CCKAR</td>\n",
              "    </tr>\n",
              "    <tr>\n",
              "      <th>1</th>\n",
              "      <td>GAST</td>\n",
              "      <td>CCKBR</td>\n",
              "    </tr>\n",
              "    <tr>\n",
              "      <th>2</th>\n",
              "      <td>GRP</td>\n",
              "      <td>GRPR</td>\n",
              "    </tr>\n",
              "    <tr>\n",
              "      <th>3</th>\n",
              "      <td>IL17F</td>\n",
              "      <td>IL17RA</td>\n",
              "    </tr>\n",
              "    <tr>\n",
              "      <th>4</th>\n",
              "      <td>NTN1</td>\n",
              "      <td>DSCAM</td>\n",
              "    </tr>\n",
              "  </tbody>\n",
              "</table>\n",
              "</div>"
            ],
            "text/plain": [
              "    From      To\n",
              "0    CCK   CCKAR\n",
              "1   GAST   CCKBR\n",
              "2    GRP    GRPR\n",
              "3  IL17F  IL17RA\n",
              "4   NTN1   DSCAM"
            ]
          },
          "metadata": {},
          "execution_count": 27
        }
      ],
      "metadata": {
        "colab": {
          "base_uri": "https://localhost:8080/",
          "height": 221
        },
        "id": "zH1iKFx27_Zr",
        "outputId": "625306fa-ca73-483f-a318-b413d06591ad"
      }
    },
    {
      "cell_type": "markdown",
      "source": [
        "# **データの結合**"
      ],
      "metadata": {
        "id": "aF3KRk919cWZ"
      }
    },
    {
      "cell_type": "markdown",
      "source": [
        "## **目標の確認**\n",
        "\n",
        "- ほしいものは、「腫瘍組織内間質細胞で発現上昇しているリガンド遺伝子」と「腫瘍細胞において発現している受容体遺伝子」のペアのリストです。\n",
        "- しかし、\n",
        "  -  「腫瘍組織内間質細胞で発現上昇している遺伝子のリスト」と「腫瘍細胞において発現している受容体遺伝子のリスト」は、あくまでマウスの遺伝子です。\n",
        "  - 「リガンド遺伝子と受容体遺伝子のペアのリスト」はヒトの遺伝子です。\n",
        "- そこで、\n",
        "  - 「腫瘍組織内間質細胞で発現上昇している遺伝子のリスト」と「腫瘍細胞において発現している受容体遺伝子のリスト」のそれぞれについて、対応するヒトのオーソログ遺伝子の情報をテーブルに追加できるとよさそうです。\n",
        "  - その上で、「リガンド遺伝子と受容体遺伝子のペアのリスト」と結合すればよさそうです。\n",
        "  - 「腫瘍組織内間質細胞で発現上昇している遺伝子のリスト」と「リガンド遺伝子と受容体遺伝子のペアのリスト」をリガンド遺伝子をキーに結合すると、「腫瘍組織内間質細胞で発現上昇しているリガンド遺伝子」が得られます。\n",
        "  - 「腫瘍細胞において発現している遺伝子のリスト」と「リガンド遺伝子と受容体遺伝子のペアのリスト」を受容体遺伝子をキーに結合すると、「腫瘍細胞において発現している受容体遺伝子」が得られます。\n",
        "\n",
        "\n",
        "### ヒント\n",
        "\n",
        "以下の関数が便利です：\n",
        "\n",
        "- `pd.merge()`\n",
        "- `.query()`: 特定の条件の行を抽出する\n",
        "- `.drop()` 特定の列を取り除く\n",
        "- `.dropna()`: NA （欠損値）のある行を取り除く\n",
        "- `.isin()` : Aの各要素がBに含まれるかをTRUE/FALSEのベクトルで返す "
      ],
      "metadata": {
        "id": "hm-4ILmE9iNy"
      }
    },
    {
      "cell_type": "markdown",
      "source": [
        "## **目標１： ヒトとマウスのオーソログの対応が１対１になっている表がほしい**\n",
        "\n",
        "`dfhom` 1対1オーソログだけでなく、1対多オーソログも含まれていたので、ちょっと面倒です。\n",
        "このような場合、1対1オーソログのみに絞ることもありますし、全部残す場合もあります。ケースバイケース。\n",
        "\n",
        "いずれにせよ、上の形では扱いづらいので、ヒトとマウスのオーソログの対応が1行ごとに並んだ形にしましょう。\n",
        "\n",
        "\n",
        "\n",
        "- `dfhom` においてオーソログのID（ `HomoloGeneID` ） が同じ遺伝子名（ `Symbol` ）同士を同じ行にし、新たなデータフレーム `dfhom2` を作成します\n",
        "  - ヒトは `Common Organism Name` が `human`、マウスは `mouse, laboratory` となっている\n",
        "- `dfhom2` は３つの列を持ちます\n",
        "  - `HomoloGeneID`: ある「オーソログ関係」に対するID\n",
        "  - `mouse`:  `HomoloGeneID`列のIDに対応したマウスにおけるオーソログ遺伝子の名前\n",
        "  - `human`:  `HomoloGeneID`列のIDに対応したヒトにおけるオーソログ遺伝子の名前\n",
        "\n"
      ],
      "metadata": {
        "id": "ktfAsonH_vyX"
      }
    },
    {
      "cell_type": "code",
      "execution_count": 28,
      "source": [
        "dfhom.head()"
      ],
      "outputs": [
        {
          "output_type": "execute_result",
          "data": {
            "text/html": [
              "<div>\n",
              "<style scoped>\n",
              "    .dataframe tbody tr th:only-of-type {\n",
              "        vertical-align: middle;\n",
              "    }\n",
              "\n",
              "    .dataframe tbody tr th {\n",
              "        vertical-align: top;\n",
              "    }\n",
              "\n",
              "    .dataframe thead th {\n",
              "        text-align: right;\n",
              "    }\n",
              "</style>\n",
              "<table border=\"1\" class=\"dataframe\">\n",
              "  <thead>\n",
              "    <tr style=\"text-align: right;\">\n",
              "      <th></th>\n",
              "      <th>HomoloGene ID</th>\n",
              "      <th>Symbol</th>\n",
              "      <th>Common Organism Name</th>\n",
              "    </tr>\n",
              "  </thead>\n",
              "  <tbody>\n",
              "    <tr>\n",
              "      <th>0</th>\n",
              "      <td>3</td>\n",
              "      <td>Acadm</td>\n",
              "      <td>mouse, laboratory</td>\n",
              "    </tr>\n",
              "    <tr>\n",
              "      <th>1</th>\n",
              "      <td>3</td>\n",
              "      <td>ACADM</td>\n",
              "      <td>human</td>\n",
              "    </tr>\n",
              "    <tr>\n",
              "      <th>2</th>\n",
              "      <td>5</td>\n",
              "      <td>Acadvl</td>\n",
              "      <td>mouse, laboratory</td>\n",
              "    </tr>\n",
              "    <tr>\n",
              "      <th>3</th>\n",
              "      <td>5</td>\n",
              "      <td>ACADVL</td>\n",
              "      <td>human</td>\n",
              "    </tr>\n",
              "    <tr>\n",
              "      <th>4</th>\n",
              "      <td>6</td>\n",
              "      <td>Acat1</td>\n",
              "      <td>mouse, laboratory</td>\n",
              "    </tr>\n",
              "  </tbody>\n",
              "</table>\n",
              "</div>"
            ],
            "text/plain": [
              "   HomoloGene ID  Symbol Common Organism Name\n",
              "0              3   Acadm    mouse, laboratory\n",
              "1              3   ACADM                human\n",
              "2              5  Acadvl    mouse, laboratory\n",
              "3              5  ACADVL                human\n",
              "4              6   Acat1    mouse, laboratory"
            ]
          },
          "metadata": {},
          "execution_count": 28
        }
      ],
      "metadata": {
        "colab": {
          "base_uri": "https://localhost:8080/",
          "height": 204
        },
        "id": "3kTFHoTpADHC",
        "outputId": "10ba6848-1548-459c-fe87-ad3debfeeba7"
      }
    },
    {
      "cell_type": "code",
      "execution_count": 29,
      "source": [
        "# マウスの情報が入った行を抽出する例\n",
        "dfhom.query(' `Common Organism Name` == \"mouse, laboratory\"')"
      ],
      "outputs": [
        {
          "output_type": "execute_result",
          "data": {
            "text/html": [
              "<div>\n",
              "<style scoped>\n",
              "    .dataframe tbody tr th:only-of-type {\n",
              "        vertical-align: middle;\n",
              "    }\n",
              "\n",
              "    .dataframe tbody tr th {\n",
              "        vertical-align: top;\n",
              "    }\n",
              "\n",
              "    .dataframe thead th {\n",
              "        text-align: right;\n",
              "    }\n",
              "</style>\n",
              "<table border=\"1\" class=\"dataframe\">\n",
              "  <thead>\n",
              "    <tr style=\"text-align: right;\">\n",
              "      <th></th>\n",
              "      <th>HomoloGene ID</th>\n",
              "      <th>Symbol</th>\n",
              "      <th>Common Organism Name</th>\n",
              "    </tr>\n",
              "  </thead>\n",
              "  <tbody>\n",
              "    <tr>\n",
              "      <th>0</th>\n",
              "      <td>3</td>\n",
              "      <td>Acadm</td>\n",
              "      <td>mouse, laboratory</td>\n",
              "    </tr>\n",
              "    <tr>\n",
              "      <th>2</th>\n",
              "      <td>5</td>\n",
              "      <td>Acadvl</td>\n",
              "      <td>mouse, laboratory</td>\n",
              "    </tr>\n",
              "    <tr>\n",
              "      <th>4</th>\n",
              "      <td>6</td>\n",
              "      <td>Acat1</td>\n",
              "      <td>mouse, laboratory</td>\n",
              "    </tr>\n",
              "    <tr>\n",
              "      <th>6</th>\n",
              "      <td>7</td>\n",
              "      <td>Acvr1</td>\n",
              "      <td>mouse, laboratory</td>\n",
              "    </tr>\n",
              "    <tr>\n",
              "      <th>8</th>\n",
              "      <td>9</td>\n",
              "      <td>Sgca</td>\n",
              "      <td>mouse, laboratory</td>\n",
              "    </tr>\n",
              "    <tr>\n",
              "      <th>...</th>\n",
              "      <td>...</td>\n",
              "      <td>...</td>\n",
              "      <td>...</td>\n",
              "    </tr>\n",
              "    <tr>\n",
              "      <th>39517</th>\n",
              "      <td>133545</td>\n",
              "      <td>Gm5174</td>\n",
              "      <td>mouse, laboratory</td>\n",
              "    </tr>\n",
              "    <tr>\n",
              "      <th>39518</th>\n",
              "      <td>133545</td>\n",
              "      <td>Gm6713</td>\n",
              "      <td>mouse, laboratory</td>\n",
              "    </tr>\n",
              "    <tr>\n",
              "      <th>39519</th>\n",
              "      <td>133545</td>\n",
              "      <td>Gm6729</td>\n",
              "      <td>mouse, laboratory</td>\n",
              "    </tr>\n",
              "    <tr>\n",
              "      <th>39520</th>\n",
              "      <td>133547</td>\n",
              "      <td>Gm5792</td>\n",
              "      <td>mouse, laboratory</td>\n",
              "    </tr>\n",
              "    <tr>\n",
              "      <th>39521</th>\n",
              "      <td>133547</td>\n",
              "      <td>Gm6901</td>\n",
              "      <td>mouse, laboratory</td>\n",
              "    </tr>\n",
              "  </tbody>\n",
              "</table>\n",
              "<p>20678 rows × 3 columns</p>\n",
              "</div>"
            ],
            "text/plain": [
              "       HomoloGene ID  Symbol Common Organism Name\n",
              "0                  3   Acadm    mouse, laboratory\n",
              "2                  5  Acadvl    mouse, laboratory\n",
              "4                  6   Acat1    mouse, laboratory\n",
              "6                  7   Acvr1    mouse, laboratory\n",
              "8                  9    Sgca    mouse, laboratory\n",
              "...              ...     ...                  ...\n",
              "39517         133545  Gm5174    mouse, laboratory\n",
              "39518         133545  Gm6713    mouse, laboratory\n",
              "39519         133545  Gm6729    mouse, laboratory\n",
              "39520         133547  Gm5792    mouse, laboratory\n",
              "39521         133547  Gm6901    mouse, laboratory\n",
              "\n",
              "[20678 rows x 3 columns]"
            ]
          },
          "metadata": {},
          "execution_count": 29
        }
      ],
      "metadata": {
        "id": "PrTGD2ETwRLu",
        "colab": {
          "base_uri": "https://localhost:8080/",
          "height": 419
        },
        "outputId": "d22ef33b-c85c-496e-d236-413edab16a73"
      }
    },
    {
      "cell_type": "code",
      "execution_count": 30,
      "source": [
        "# マウスの行とヒトの表をそれぞれ抜き出し、 `outer_join` で joinしている\n",
        "dfhom2 = pd.merge(\n",
        "    dfhom.query('`Common Organism Name` == \"mouse, laboratory\"').drop(columns='Common Organism Name'),\n",
        "    dfhom.query(' `Common Organism Name` == \"human\"').drop(columns='Common Organism Name'),\n",
        "    how = \"outer\",\n",
        "    on = \"HomoloGene ID\"\n",
        ")\n",
        "\n",
        "dfhom2.head()"
      ],
      "outputs": [
        {
          "output_type": "execute_result",
          "data": {
            "text/html": [
              "<div>\n",
              "<style scoped>\n",
              "    .dataframe tbody tr th:only-of-type {\n",
              "        vertical-align: middle;\n",
              "    }\n",
              "\n",
              "    .dataframe tbody tr th {\n",
              "        vertical-align: top;\n",
              "    }\n",
              "\n",
              "    .dataframe thead th {\n",
              "        text-align: right;\n",
              "    }\n",
              "</style>\n",
              "<table border=\"1\" class=\"dataframe\">\n",
              "  <thead>\n",
              "    <tr style=\"text-align: right;\">\n",
              "      <th></th>\n",
              "      <th>HomoloGene ID</th>\n",
              "      <th>Symbol_x</th>\n",
              "      <th>Symbol_y</th>\n",
              "    </tr>\n",
              "  </thead>\n",
              "  <tbody>\n",
              "    <tr>\n",
              "      <th>0</th>\n",
              "      <td>3</td>\n",
              "      <td>Acadm</td>\n",
              "      <td>ACADM</td>\n",
              "    </tr>\n",
              "    <tr>\n",
              "      <th>1</th>\n",
              "      <td>5</td>\n",
              "      <td>Acadvl</td>\n",
              "      <td>ACADVL</td>\n",
              "    </tr>\n",
              "    <tr>\n",
              "      <th>2</th>\n",
              "      <td>6</td>\n",
              "      <td>Acat1</td>\n",
              "      <td>ACAT1</td>\n",
              "    </tr>\n",
              "    <tr>\n",
              "      <th>3</th>\n",
              "      <td>7</td>\n",
              "      <td>Acvr1</td>\n",
              "      <td>ACVR1</td>\n",
              "    </tr>\n",
              "    <tr>\n",
              "      <th>4</th>\n",
              "      <td>9</td>\n",
              "      <td>Sgca</td>\n",
              "      <td>SGCA</td>\n",
              "    </tr>\n",
              "  </tbody>\n",
              "</table>\n",
              "</div>"
            ],
            "text/plain": [
              "   HomoloGene ID Symbol_x Symbol_y\n",
              "0              3    Acadm    ACADM\n",
              "1              5   Acadvl   ACADVL\n",
              "2              6    Acat1    ACAT1\n",
              "3              7    Acvr1    ACVR1\n",
              "4              9     Sgca     SGCA"
            ]
          },
          "metadata": {},
          "execution_count": 30
        }
      ],
      "metadata": {
        "id": "hRvgvt4gzNkt",
        "colab": {
          "base_uri": "https://localhost:8080/",
          "height": 204
        },
        "outputId": "df847695-e7f7-4f65-e1b3-57b1ed5240b3"
      }
    },
    {
      "cell_type": "code",
      "execution_count": 31,
      "source": [
        "# 列名を変える\n",
        "dfhom2 = dfhom2.rename(columns={\"Symbol_x\": \"mouse\", \"Symbol_y\": \"human\"})\n",
        "\n",
        "dfhom2.head()"
      ],
      "outputs": [
        {
          "output_type": "execute_result",
          "data": {
            "text/html": [
              "<div>\n",
              "<style scoped>\n",
              "    .dataframe tbody tr th:only-of-type {\n",
              "        vertical-align: middle;\n",
              "    }\n",
              "\n",
              "    .dataframe tbody tr th {\n",
              "        vertical-align: top;\n",
              "    }\n",
              "\n",
              "    .dataframe thead th {\n",
              "        text-align: right;\n",
              "    }\n",
              "</style>\n",
              "<table border=\"1\" class=\"dataframe\">\n",
              "  <thead>\n",
              "    <tr style=\"text-align: right;\">\n",
              "      <th></th>\n",
              "      <th>HomoloGene ID</th>\n",
              "      <th>mouse</th>\n",
              "      <th>human</th>\n",
              "    </tr>\n",
              "  </thead>\n",
              "  <tbody>\n",
              "    <tr>\n",
              "      <th>0</th>\n",
              "      <td>3</td>\n",
              "      <td>Acadm</td>\n",
              "      <td>ACADM</td>\n",
              "    </tr>\n",
              "    <tr>\n",
              "      <th>1</th>\n",
              "      <td>5</td>\n",
              "      <td>Acadvl</td>\n",
              "      <td>ACADVL</td>\n",
              "    </tr>\n",
              "    <tr>\n",
              "      <th>2</th>\n",
              "      <td>6</td>\n",
              "      <td>Acat1</td>\n",
              "      <td>ACAT1</td>\n",
              "    </tr>\n",
              "    <tr>\n",
              "      <th>3</th>\n",
              "      <td>7</td>\n",
              "      <td>Acvr1</td>\n",
              "      <td>ACVR1</td>\n",
              "    </tr>\n",
              "    <tr>\n",
              "      <th>4</th>\n",
              "      <td>9</td>\n",
              "      <td>Sgca</td>\n",
              "      <td>SGCA</td>\n",
              "    </tr>\n",
              "  </tbody>\n",
              "</table>\n",
              "</div>"
            ],
            "text/plain": [
              "   HomoloGene ID   mouse   human\n",
              "0              3   Acadm   ACADM\n",
              "1              5  Acadvl  ACADVL\n",
              "2              6   Acat1   ACAT1\n",
              "3              7   Acvr1   ACVR1\n",
              "4              9    Sgca    SGCA"
            ]
          },
          "metadata": {},
          "execution_count": 31
        }
      ],
      "metadata": {
        "colab": {
          "base_uri": "https://localhost:8080/",
          "height": 204
        },
        "id": "POy8M4JLAecY",
        "outputId": "e05680f1-d477-4c0e-a2b9-f59fe422defc"
      }
    },
    {
      "cell_type": "markdown",
      "source": [
        "## **目標２： 腫瘍組織内間質細胞において発現上昇している遺伝子の、ヒトにおけるオーソログ遺伝子のリストを得る**\n",
        "\n",
        "遺伝子のリストとヒト-マウスオーソログの表を結合することで、マウスの遺伝子リストであってもヒトの遺伝子に関するデータベースの情報と照合することができるようになります。\n",
        "\n",
        "そのために、JOIN をします。JOINは２つの表x, yそれぞれの列を比較し、x, yを結合した新しい表を作る操作です。\n",
        "\n",
        "比較する列をキーと呼びます。表 x, y のキーがユニークで同一であれば単に横に連結すればいいですが、実際には、xもしくはyまたは両方で足りない/余分なキーがある場合があり、そのような場合にどう処理するかによって、JOINに様々な種類があります。\n",
        "\n",
        "> join について https://qiita.com/matsuou1/items/b1bd9778610e3a586e71\n",
        "\n",
        "- まず `deg_macrophage_tumor` と `dfhom2` を結合し、新たなデータフレーム `deg_macrophage_tumor_human` を作る\n",
        "- 次に、`deg_macrophage_tumor_human` から NA (欠損値)のある行を除く"
      ],
      "metadata": {
        "id": "djelGLnFzNkw"
      }
    },
    {
      "cell_type": "code",
      "execution_count": 32,
      "source": [
        "# ヒト-マウスオーソログ関係の表と遺伝子リスト表を結合する\n",
        "## `left_join` は一番目の表（データフレーム) の\b行は全部残して、JOINを行う\n",
        "deg_macrophage_tumor_human = pd.merge(\n",
        "    deg_macrophage_tumor, \n",
        "    dfhom2, \n",
        "    how='left',\n",
        "    left_on='gene_id',\n",
        "    right_on='mouse'\n",
        ")\n",
        "\n",
        "# 行数と列数を確認する\n",
        "print(deg_macrophage_tumor_human.shape)\n",
        "\n",
        "# head\n",
        "## deg_macrophage_tumor にあっても dfhom2 になかった列では、 `HomoloGene ID`やhumanが欠損値 (NA) になっている\n",
        "deg_macrophage_tumor_human.head()"
      ],
      "outputs": [
        {
          "output_type": "stream",
          "name": "stdout",
          "text": [
            "(1932, 9)\n"
          ]
        },
        {
          "output_type": "execute_result",
          "data": {
            "text/html": [
              "<div>\n",
              "<style scoped>\n",
              "    .dataframe tbody tr th:only-of-type {\n",
              "        vertical-align: middle;\n",
              "    }\n",
              "\n",
              "    .dataframe tbody tr th {\n",
              "        vertical-align: top;\n",
              "    }\n",
              "\n",
              "    .dataframe thead th {\n",
              "        text-align: right;\n",
              "    }\n",
              "</style>\n",
              "<table border=\"1\" class=\"dataframe\">\n",
              "  <thead>\n",
              "    <tr style=\"text-align: right;\">\n",
              "      <th></th>\n",
              "      <th>gene_id</th>\n",
              "      <th>value_1</th>\n",
              "      <th>value_2</th>\n",
              "      <th>log2(fold_change)</th>\n",
              "      <th>p_value</th>\n",
              "      <th>q_value</th>\n",
              "      <th>HomoloGene ID</th>\n",
              "      <th>mouse</th>\n",
              "      <th>human</th>\n",
              "    </tr>\n",
              "  </thead>\n",
              "  <tbody>\n",
              "    <tr>\n",
              "      <th>0</th>\n",
              "      <td>0610010O12Rik</td>\n",
              "      <td>4.19646</td>\n",
              "      <td>8.98632</td>\n",
              "      <td>1.098560</td>\n",
              "      <td>0.00095</td>\n",
              "      <td>0.004437</td>\n",
              "      <td>NaN</td>\n",
              "      <td>NaN</td>\n",
              "      <td>NaN</td>\n",
              "    </tr>\n",
              "    <tr>\n",
              "      <th>1</th>\n",
              "      <td>0610031J06Rik</td>\n",
              "      <td>95.85410</td>\n",
              "      <td>144.76100</td>\n",
              "      <td>0.594760</td>\n",
              "      <td>0.00020</td>\n",
              "      <td>0.001113</td>\n",
              "      <td>10562.0</td>\n",
              "      <td>0610031J06Rik</td>\n",
              "      <td>C1orf85</td>\n",
              "    </tr>\n",
              "    <tr>\n",
              "      <th>2</th>\n",
              "      <td>0610040J01Rik</td>\n",
              "      <td>1.49871</td>\n",
              "      <td>3.08289</td>\n",
              "      <td>1.040560</td>\n",
              "      <td>0.00420</td>\n",
              "      <td>0.016218</td>\n",
              "      <td>49537.0</td>\n",
              "      <td>0610040J01Rik</td>\n",
              "      <td>C4orf19</td>\n",
              "    </tr>\n",
              "    <tr>\n",
              "      <th>3</th>\n",
              "      <td>1110002B05Rik</td>\n",
              "      <td>39.23150</td>\n",
              "      <td>69.53890</td>\n",
              "      <td>0.825809</td>\n",
              "      <td>0.00005</td>\n",
              "      <td>0.000310</td>\n",
              "      <td>NaN</td>\n",
              "      <td>NaN</td>\n",
              "      <td>NaN</td>\n",
              "    </tr>\n",
              "    <tr>\n",
              "      <th>4</th>\n",
              "      <td>1110003E01Rik</td>\n",
              "      <td>20.49960</td>\n",
              "      <td>34.26780</td>\n",
              "      <td>0.741253</td>\n",
              "      <td>0.00005</td>\n",
              "      <td>0.000310</td>\n",
              "      <td>NaN</td>\n",
              "      <td>NaN</td>\n",
              "      <td>NaN</td>\n",
              "    </tr>\n",
              "  </tbody>\n",
              "</table>\n",
              "</div>"
            ],
            "text/plain": [
              "         gene_id   value_1    value_2  ...  HomoloGene ID          mouse    human\n",
              "0  0610010O12Rik   4.19646    8.98632  ...            NaN            NaN      NaN\n",
              "1  0610031J06Rik  95.85410  144.76100  ...        10562.0  0610031J06Rik  C1orf85\n",
              "2  0610040J01Rik   1.49871    3.08289  ...        49537.0  0610040J01Rik  C4orf19\n",
              "3  1110002B05Rik  39.23150   69.53890  ...            NaN            NaN      NaN\n",
              "4  1110003E01Rik  20.49960   34.26780  ...            NaN            NaN      NaN\n",
              "\n",
              "[5 rows x 9 columns]"
            ]
          },
          "metadata": {},
          "execution_count": 32
        }
      ],
      "metadata": {
        "id": "Flhd9WWczNkx",
        "colab": {
          "base_uri": "https://localhost:8080/",
          "height": 0
        },
        "outputId": "e80c0fdd-6af4-483c-d519-7f91559978e7"
      }
    },
    {
      "cell_type": "code",
      "execution_count": 33,
      "source": [
        "# NA の無いの行だけにする\n",
        "deg_macrophage_tumor_human = deg_macrophage_tumor_human.dropna()\n",
        "\n",
        "# 行数と列数を確認する\n",
        "print(deg_macrophage_tumor_human.shape)\n",
        "\n",
        "# head\n",
        "deg_macrophage_tumor_human.head()"
      ],
      "outputs": [
        {
          "output_type": "stream",
          "name": "stdout",
          "text": [
            "(1674, 9)\n"
          ]
        },
        {
          "output_type": "execute_result",
          "data": {
            "text/html": [
              "<div>\n",
              "<style scoped>\n",
              "    .dataframe tbody tr th:only-of-type {\n",
              "        vertical-align: middle;\n",
              "    }\n",
              "\n",
              "    .dataframe tbody tr th {\n",
              "        vertical-align: top;\n",
              "    }\n",
              "\n",
              "    .dataframe thead th {\n",
              "        text-align: right;\n",
              "    }\n",
              "</style>\n",
              "<table border=\"1\" class=\"dataframe\">\n",
              "  <thead>\n",
              "    <tr style=\"text-align: right;\">\n",
              "      <th></th>\n",
              "      <th>gene_id</th>\n",
              "      <th>value_1</th>\n",
              "      <th>value_2</th>\n",
              "      <th>log2(fold_change)</th>\n",
              "      <th>p_value</th>\n",
              "      <th>q_value</th>\n",
              "      <th>HomoloGene ID</th>\n",
              "      <th>mouse</th>\n",
              "      <th>human</th>\n",
              "    </tr>\n",
              "  </thead>\n",
              "  <tbody>\n",
              "    <tr>\n",
              "      <th>1</th>\n",
              "      <td>0610031J06Rik</td>\n",
              "      <td>95.854100</td>\n",
              "      <td>144.76100</td>\n",
              "      <td>0.594760</td>\n",
              "      <td>0.00020</td>\n",
              "      <td>0.001113</td>\n",
              "      <td>10562.0</td>\n",
              "      <td>0610031J06Rik</td>\n",
              "      <td>C1orf85</td>\n",
              "    </tr>\n",
              "    <tr>\n",
              "      <th>2</th>\n",
              "      <td>0610040J01Rik</td>\n",
              "      <td>1.498710</td>\n",
              "      <td>3.08289</td>\n",
              "      <td>1.040560</td>\n",
              "      <td>0.00420</td>\n",
              "      <td>0.016218</td>\n",
              "      <td>49537.0</td>\n",
              "      <td>0610040J01Rik</td>\n",
              "      <td>C4orf19</td>\n",
              "    </tr>\n",
              "    <tr>\n",
              "      <th>5</th>\n",
              "      <td>1110007C09Rik</td>\n",
              "      <td>22.560800</td>\n",
              "      <td>77.52120</td>\n",
              "      <td>1.780770</td>\n",
              "      <td>0.00005</td>\n",
              "      <td>0.000310</td>\n",
              "      <td>12269.0</td>\n",
              "      <td>1110007C09Rik</td>\n",
              "      <td>C9orf89</td>\n",
              "    </tr>\n",
              "    <tr>\n",
              "      <th>12</th>\n",
              "      <td>1700025G04Rik</td>\n",
              "      <td>1.123720</td>\n",
              "      <td>2.19438</td>\n",
              "      <td>0.965534</td>\n",
              "      <td>0.00350</td>\n",
              "      <td>0.013890</td>\n",
              "      <td>12776.0</td>\n",
              "      <td>1700025G04Rik</td>\n",
              "      <td>C1orf21</td>\n",
              "    </tr>\n",
              "    <tr>\n",
              "      <th>13</th>\n",
              "      <td>1700026D08Rik</td>\n",
              "      <td>0.584625</td>\n",
              "      <td>4.63796</td>\n",
              "      <td>2.987910</td>\n",
              "      <td>0.00005</td>\n",
              "      <td>0.000310</td>\n",
              "      <td>12605.0</td>\n",
              "      <td>1700026D08Rik</td>\n",
              "      <td>C15orf26</td>\n",
              "    </tr>\n",
              "  </tbody>\n",
              "</table>\n",
              "</div>"
            ],
            "text/plain": [
              "          gene_id    value_1    value_2  ...  HomoloGene ID          mouse     human\n",
              "1   0610031J06Rik  95.854100  144.76100  ...        10562.0  0610031J06Rik   C1orf85\n",
              "2   0610040J01Rik   1.498710    3.08289  ...        49537.0  0610040J01Rik   C4orf19\n",
              "5   1110007C09Rik  22.560800   77.52120  ...        12269.0  1110007C09Rik   C9orf89\n",
              "12  1700025G04Rik   1.123720    2.19438  ...        12776.0  1700025G04Rik   C1orf21\n",
              "13  1700026D08Rik   0.584625    4.63796  ...        12605.0  1700026D08Rik  C15orf26\n",
              "\n",
              "[5 rows x 9 columns]"
            ]
          },
          "metadata": {},
          "execution_count": 33
        }
      ],
      "metadata": {
        "id": "tk1PHibE2iML",
        "colab": {
          "base_uri": "https://localhost:8080/",
          "height": 0
        },
        "outputId": "2f4a1be4-0f97-44b3-9f84-713218d5c8e7"
      }
    },
    {
      "cell_type": "markdown",
      "source": [
        "## **目標3: 腫瘍細胞において発現している遺伝子の、ヒトにおけるオーソログ遺伝子のリストを得る**\n",
        "\n",
        "- `fpkm_epi_tumor` (腫瘍細胞において発現している遺伝子のリスト) と `dfhom2` (ヒトとマウスのオーソログ関係のリスト) を結合し、新たなデータフレーム `fpkm_epi_tumor_human` を作成する\n",
        "- `fpkm_epi_tumor_human` でNA（欠損値）のある行を除く"
      ],
      "metadata": {
        "id": "tc_P4WuVFf-T"
      }
    },
    {
      "cell_type": "code",
      "execution_count": 34,
      "source": [
        "# ヒト-マウスオーソログ関係の表と遺伝子リスト表を結合する\n",
        "fpkm_epi_tumor_human = pd.merge(\n",
        "    fpkm_epi_tumor, \n",
        "    dfhom2, \n",
        "    how='left',\n",
        "    left_on='tracking_id',\n",
        "    right_on='mouse'\n",
        ")\n",
        "\n",
        "# 行数と列数を確認する\n",
        "print(fpkm_epi_tumor_human.shape)\n",
        "\n",
        "# head\n",
        "fpkm_epi_tumor_human.head()"
      ],
      "outputs": [
        {
          "output_type": "stream",
          "name": "stdout",
          "text": [
            "(72726, 5)\n"
          ]
        },
        {
          "output_type": "execute_result",
          "data": {
            "text/html": [
              "<div>\n",
              "<style scoped>\n",
              "    .dataframe tbody tr th:only-of-type {\n",
              "        vertical-align: middle;\n",
              "    }\n",
              "\n",
              "    .dataframe tbody tr th {\n",
              "        vertical-align: top;\n",
              "    }\n",
              "\n",
              "    .dataframe thead th {\n",
              "        text-align: right;\n",
              "    }\n",
              "</style>\n",
              "<table border=\"1\" class=\"dataframe\">\n",
              "  <thead>\n",
              "    <tr style=\"text-align: right;\">\n",
              "      <th></th>\n",
              "      <th>tracking_id</th>\n",
              "      <th>FPKM</th>\n",
              "      <th>HomoloGene ID</th>\n",
              "      <th>mouse</th>\n",
              "      <th>human</th>\n",
              "    </tr>\n",
              "  </thead>\n",
              "  <tbody>\n",
              "    <tr>\n",
              "      <th>0</th>\n",
              "      <td>0610007C21Rik</td>\n",
              "      <td>46.5889</td>\n",
              "      <td>NaN</td>\n",
              "      <td>NaN</td>\n",
              "      <td>NaN</td>\n",
              "    </tr>\n",
              "    <tr>\n",
              "      <th>1</th>\n",
              "      <td>0610007C21Rik</td>\n",
              "      <td>63.4719</td>\n",
              "      <td>NaN</td>\n",
              "      <td>NaN</td>\n",
              "      <td>NaN</td>\n",
              "    </tr>\n",
              "    <tr>\n",
              "      <th>2</th>\n",
              "      <td>0610007C21Rik</td>\n",
              "      <td>80.0110</td>\n",
              "      <td>NaN</td>\n",
              "      <td>NaN</td>\n",
              "      <td>NaN</td>\n",
              "    </tr>\n",
              "    <tr>\n",
              "      <th>3</th>\n",
              "      <td>0610007C21Rik</td>\n",
              "      <td>59.6297</td>\n",
              "      <td>NaN</td>\n",
              "      <td>NaN</td>\n",
              "      <td>NaN</td>\n",
              "    </tr>\n",
              "    <tr>\n",
              "      <th>4</th>\n",
              "      <td>0610007C21Rik</td>\n",
              "      <td>49.4234</td>\n",
              "      <td>NaN</td>\n",
              "      <td>NaN</td>\n",
              "      <td>NaN</td>\n",
              "    </tr>\n",
              "  </tbody>\n",
              "</table>\n",
              "</div>"
            ],
            "text/plain": [
              "     tracking_id     FPKM  HomoloGene ID mouse human\n",
              "0  0610007C21Rik  46.5889            NaN   NaN   NaN\n",
              "1  0610007C21Rik  63.4719            NaN   NaN   NaN\n",
              "2  0610007C21Rik  80.0110            NaN   NaN   NaN\n",
              "3  0610007C21Rik  59.6297            NaN   NaN   NaN\n",
              "4  0610007C21Rik  49.4234            NaN   NaN   NaN"
            ]
          },
          "metadata": {},
          "execution_count": 34
        }
      ],
      "metadata": {
        "id": "WuM3jX_ZzNkz",
        "colab": {
          "base_uri": "https://localhost:8080/",
          "height": 0
        },
        "outputId": "f1e27dab-2b0d-4e1b-dd02-6d33c39e2f20"
      }
    },
    {
      "cell_type": "code",
      "execution_count": 35,
      "source": [
        "# NA が無いの行だけにする\n",
        "fpkm_epi_tumor_human = fpkm_epi_tumor_human.dropna()\n",
        "\n",
        "# 何行何列\n",
        "print(fpkm_epi_tumor_human.shape)\n",
        "\n",
        "# head\n",
        "fpkm_epi_tumor_human.head()"
      ],
      "outputs": [
        {
          "output_type": "stream",
          "name": "stdout",
          "text": [
            "(62264, 5)\n"
          ]
        },
        {
          "output_type": "execute_result",
          "data": {
            "text/html": [
              "<div>\n",
              "<style scoped>\n",
              "    .dataframe tbody tr th:only-of-type {\n",
              "        vertical-align: middle;\n",
              "    }\n",
              "\n",
              "    .dataframe tbody tr th {\n",
              "        vertical-align: top;\n",
              "    }\n",
              "\n",
              "    .dataframe thead th {\n",
              "        text-align: right;\n",
              "    }\n",
              "</style>\n",
              "<table border=\"1\" class=\"dataframe\">\n",
              "  <thead>\n",
              "    <tr style=\"text-align: right;\">\n",
              "      <th></th>\n",
              "      <th>tracking_id</th>\n",
              "      <th>FPKM</th>\n",
              "      <th>HomoloGene ID</th>\n",
              "      <th>mouse</th>\n",
              "      <th>human</th>\n",
              "    </tr>\n",
              "  </thead>\n",
              "  <tbody>\n",
              "    <tr>\n",
              "      <th>18</th>\n",
              "      <td>0610007P14Rik</td>\n",
              "      <td>23.5014</td>\n",
              "      <td>38284.0</td>\n",
              "      <td>0610007P14Rik</td>\n",
              "      <td>C14orf1</td>\n",
              "    </tr>\n",
              "    <tr>\n",
              "      <th>19</th>\n",
              "      <td>0610007P14Rik</td>\n",
              "      <td>33.9843</td>\n",
              "      <td>38284.0</td>\n",
              "      <td>0610007P14Rik</td>\n",
              "      <td>C14orf1</td>\n",
              "    </tr>\n",
              "    <tr>\n",
              "      <th>20</th>\n",
              "      <td>0610007P14Rik</td>\n",
              "      <td>24.8046</td>\n",
              "      <td>38284.0</td>\n",
              "      <td>0610007P14Rik</td>\n",
              "      <td>C14orf1</td>\n",
              "    </tr>\n",
              "    <tr>\n",
              "      <th>21</th>\n",
              "      <td>0610007P14Rik</td>\n",
              "      <td>25.0812</td>\n",
              "      <td>38284.0</td>\n",
              "      <td>0610007P14Rik</td>\n",
              "      <td>C14orf1</td>\n",
              "    </tr>\n",
              "    <tr>\n",
              "      <th>22</th>\n",
              "      <td>0610007P14Rik</td>\n",
              "      <td>21.5133</td>\n",
              "      <td>38284.0</td>\n",
              "      <td>0610007P14Rik</td>\n",
              "      <td>C14orf1</td>\n",
              "    </tr>\n",
              "  </tbody>\n",
              "</table>\n",
              "</div>"
            ],
            "text/plain": [
              "      tracking_id     FPKM  HomoloGene ID          mouse    human\n",
              "18  0610007P14Rik  23.5014        38284.0  0610007P14Rik  C14orf1\n",
              "19  0610007P14Rik  33.9843        38284.0  0610007P14Rik  C14orf1\n",
              "20  0610007P14Rik  24.8046        38284.0  0610007P14Rik  C14orf1\n",
              "21  0610007P14Rik  25.0812        38284.0  0610007P14Rik  C14orf1\n",
              "22  0610007P14Rik  21.5133        38284.0  0610007P14Rik  C14orf1"
            ]
          },
          "metadata": {},
          "execution_count": 35
        }
      ],
      "metadata": {
        "id": "a8ocVsTb4K93",
        "colab": {
          "base_uri": "https://localhost:8080/",
          "height": 0
        },
        "outputId": "a7b8eed4-c6ee-4a83-ce28-35ca03706f48"
      }
    },
    {
      "cell_type": "markdown",
      "source": [
        "## **目標４:リガンド-受容体関係の情報に発現/発現変動遺伝子の情報を加える**\n",
        "\n",
        "- `dflr` に、`ligand_up_in_tumor_macrophage` という列を追加する\n",
        "  - `ligand_up_in_tumor_macrophage`列は、 `From`列のリガンドが `deg_macrophage_tumor_human` に含まれるなら `True`, 含まれないなら `False` が入る\n",
        "\n",
        "- `dflr` に、`receptor_expressed_in_tumor_macrophage` という列を追加する\n",
        "  - `receptor_expressed_in_tumor_macrophage`列は、 `To`列の受容体が `fpkm_epi_tumor_human` に含まれるなら `True`, 含まれないなら `False` が入る\n",
        "- `dflr` から以下の条件に当てはまる行を抽出し、新たなデータフレーム `dflr_pair` を作成する\n",
        "  - 条件: `ligand_up_in_tumor_macrophage`列 と  `receptor_expressed_in_tumor_macrophage`列 が両方 `True` である"
      ],
      "metadata": {
        "id": "s8JVQpTXzNk1"
      }
    },
    {
      "cell_type": "code",
      "execution_count": 36,
      "source": [
        "# 何行何列\n",
        "print(dflr.shape)\n",
        "\n",
        "# ligand_up_in_tumor_macrophage という列を追加する。\n",
        "## deg_macrophage_tumor_human に リガンドが含まれるならば TRUE 、そうでないならば FALSE となる\n",
        "dflr['ligand_up_in_tumor_macrophage'] = dflr['From'].isin(deg_macrophage_tumor_human['human'])\n",
        "\n",
        "# 何行何列\n",
        "print(dflr.shape)\n",
        "\n",
        "# head\n",
        "dflr.head()"
      ],
      "outputs": [
        {
          "output_type": "stream",
          "name": "stdout",
          "text": [
            "(1427, 2)\n",
            "(1427, 3)\n"
          ]
        },
        {
          "output_type": "execute_result",
          "data": {
            "text/html": [
              "<div>\n",
              "<style scoped>\n",
              "    .dataframe tbody tr th:only-of-type {\n",
              "        vertical-align: middle;\n",
              "    }\n",
              "\n",
              "    .dataframe tbody tr th {\n",
              "        vertical-align: top;\n",
              "    }\n",
              "\n",
              "    .dataframe thead th {\n",
              "        text-align: right;\n",
              "    }\n",
              "</style>\n",
              "<table border=\"1\" class=\"dataframe\">\n",
              "  <thead>\n",
              "    <tr style=\"text-align: right;\">\n",
              "      <th></th>\n",
              "      <th>From</th>\n",
              "      <th>To</th>\n",
              "      <th>ligand_up_in_tumor_macrophage</th>\n",
              "    </tr>\n",
              "  </thead>\n",
              "  <tbody>\n",
              "    <tr>\n",
              "      <th>0</th>\n",
              "      <td>CCK</td>\n",
              "      <td>CCKAR</td>\n",
              "      <td>False</td>\n",
              "    </tr>\n",
              "    <tr>\n",
              "      <th>1</th>\n",
              "      <td>GAST</td>\n",
              "      <td>CCKBR</td>\n",
              "      <td>False</td>\n",
              "    </tr>\n",
              "    <tr>\n",
              "      <th>2</th>\n",
              "      <td>GRP</td>\n",
              "      <td>GRPR</td>\n",
              "      <td>False</td>\n",
              "    </tr>\n",
              "    <tr>\n",
              "      <th>3</th>\n",
              "      <td>IL17F</td>\n",
              "      <td>IL17RA</td>\n",
              "      <td>False</td>\n",
              "    </tr>\n",
              "    <tr>\n",
              "      <th>4</th>\n",
              "      <td>NTN1</td>\n",
              "      <td>DSCAM</td>\n",
              "      <td>False</td>\n",
              "    </tr>\n",
              "  </tbody>\n",
              "</table>\n",
              "</div>"
            ],
            "text/plain": [
              "    From      To  ligand_up_in_tumor_macrophage\n",
              "0    CCK   CCKAR                          False\n",
              "1   GAST   CCKBR                          False\n",
              "2    GRP    GRPR                          False\n",
              "3  IL17F  IL17RA                          False\n",
              "4   NTN1   DSCAM                          False"
            ]
          },
          "metadata": {},
          "execution_count": 36
        }
      ],
      "metadata": {
        "id": "Hyn6LJUo5Byx",
        "colab": {
          "base_uri": "https://localhost:8080/",
          "height": 0
        },
        "outputId": "d5da372d-7e26-4660-f77e-5b579a4387e3"
      }
    },
    {
      "cell_type": "code",
      "execution_count": 37,
      "source": [
        "# ligand_up_in_tumor_macrophage の数を集計\n",
        "dflr.groupby('ligand_up_in_tumor_macrophage').size()"
      ],
      "outputs": [
        {
          "output_type": "execute_result",
          "data": {
            "text/plain": [
              "ligand_up_in_tumor_macrophage\n",
              "False    1255\n",
              "True      172\n",
              "dtype: int64"
            ]
          },
          "metadata": {},
          "execution_count": 37
        }
      ],
      "metadata": {
        "id": "t166TYq78Be2",
        "colab": {
          "base_uri": "https://localhost:8080/"
        },
        "outputId": "68d3217c-8b68-47fb-8b6a-21c7559f1d31"
      }
    },
    {
      "cell_type": "code",
      "execution_count": 38,
      "source": [
        "# receptor_expressed_in_tumor_macrophage という列を追加する。\n",
        "## fpkm_epi_tumor_human に 受容体が含まれるならばTRUE、そうでないならばFALSEとなる\n",
        "dflr['receptor_expressed_in_tumor_macrophage'] = dflr['To'].isin(fpkm_epi_tumor_human['human'])\n",
        "\n",
        "# 何行何列\n",
        "print(dflr.shape)\n",
        "\n",
        "# head\n",
        "dflr.head()"
      ],
      "outputs": [
        {
          "output_type": "stream",
          "name": "stdout",
          "text": [
            "(1427, 4)\n"
          ]
        },
        {
          "output_type": "execute_result",
          "data": {
            "text/html": [
              "<div>\n",
              "<style scoped>\n",
              "    .dataframe tbody tr th:only-of-type {\n",
              "        vertical-align: middle;\n",
              "    }\n",
              "\n",
              "    .dataframe tbody tr th {\n",
              "        vertical-align: top;\n",
              "    }\n",
              "\n",
              "    .dataframe thead th {\n",
              "        text-align: right;\n",
              "    }\n",
              "</style>\n",
              "<table border=\"1\" class=\"dataframe\">\n",
              "  <thead>\n",
              "    <tr style=\"text-align: right;\">\n",
              "      <th></th>\n",
              "      <th>From</th>\n",
              "      <th>To</th>\n",
              "      <th>ligand_up_in_tumor_macrophage</th>\n",
              "      <th>receptor_expressed_in_tumor_macrophage</th>\n",
              "    </tr>\n",
              "  </thead>\n",
              "  <tbody>\n",
              "    <tr>\n",
              "      <th>0</th>\n",
              "      <td>CCK</td>\n",
              "      <td>CCKAR</td>\n",
              "      <td>False</td>\n",
              "      <td>True</td>\n",
              "    </tr>\n",
              "    <tr>\n",
              "      <th>1</th>\n",
              "      <td>GAST</td>\n",
              "      <td>CCKBR</td>\n",
              "      <td>False</td>\n",
              "      <td>False</td>\n",
              "    </tr>\n",
              "    <tr>\n",
              "      <th>2</th>\n",
              "      <td>GRP</td>\n",
              "      <td>GRPR</td>\n",
              "      <td>False</td>\n",
              "      <td>False</td>\n",
              "    </tr>\n",
              "    <tr>\n",
              "      <th>3</th>\n",
              "      <td>IL17F</td>\n",
              "      <td>IL17RA</td>\n",
              "      <td>False</td>\n",
              "      <td>True</td>\n",
              "    </tr>\n",
              "    <tr>\n",
              "      <th>4</th>\n",
              "      <td>NTN1</td>\n",
              "      <td>DSCAM</td>\n",
              "      <td>False</td>\n",
              "      <td>False</td>\n",
              "    </tr>\n",
              "  </tbody>\n",
              "</table>\n",
              "</div>"
            ],
            "text/plain": [
              "    From  ... receptor_expressed_in_tumor_macrophage\n",
              "0    CCK  ...                                   True\n",
              "1   GAST  ...                                  False\n",
              "2    GRP  ...                                  False\n",
              "3  IL17F  ...                                   True\n",
              "4   NTN1  ...                                  False\n",
              "\n",
              "[5 rows x 4 columns]"
            ]
          },
          "metadata": {},
          "execution_count": 38
        }
      ],
      "metadata": {
        "id": "Je8-Ov9BzNk3",
        "colab": {
          "base_uri": "https://localhost:8080/",
          "height": 0
        },
        "outputId": "2f802ab0-95ca-4b49-a084-7443801c1a68"
      }
    },
    {
      "cell_type": "code",
      "execution_count": 39,
      "source": [
        "# receptor_expressed_in_tumor_macrophage の数を集計\n",
        "dflr.groupby('receptor_expressed_in_tumor_macrophage').size()"
      ],
      "outputs": [
        {
          "output_type": "execute_result",
          "data": {
            "text/plain": [
              "receptor_expressed_in_tumor_macrophage\n",
              "False     426\n",
              "True     1001\n",
              "dtype: int64"
            ]
          },
          "metadata": {},
          "execution_count": 39
        }
      ],
      "metadata": {
        "id": "-gAWZatJ8egU",
        "colab": {
          "base_uri": "https://localhost:8080/"
        },
        "outputId": "f1cf6f59-6384-4a1e-9d88-9726d95c2c5c"
      }
    },
    {
      "cell_type": "code",
      "execution_count": 40,
      "source": [
        "# `ligand_up_in_tumor_macrophage` と  `receptor_expressed_in_tumor_macrophage` が両方TRUEである行を探す\n",
        "dflr_pair = dflr.query('ligand_up_in_tumor_macrophage == True & receptor_expressed_in_tumor_macrophage == True')\n",
        "\n",
        "# 何行何列\n",
        "print(dflr_pair.shape)\n",
        "\n",
        "# head\n",
        "dflr_pair.head()"
      ],
      "outputs": [
        {
          "output_type": "stream",
          "name": "stdout",
          "text": [
            "(129, 4)\n"
          ]
        },
        {
          "output_type": "execute_result",
          "data": {
            "text/html": [
              "<div>\n",
              "<style scoped>\n",
              "    .dataframe tbody tr th:only-of-type {\n",
              "        vertical-align: middle;\n",
              "    }\n",
              "\n",
              "    .dataframe tbody tr th {\n",
              "        vertical-align: top;\n",
              "    }\n",
              "\n",
              "    .dataframe thead th {\n",
              "        text-align: right;\n",
              "    }\n",
              "</style>\n",
              "<table border=\"1\" class=\"dataframe\">\n",
              "  <thead>\n",
              "    <tr style=\"text-align: right;\">\n",
              "      <th></th>\n",
              "      <th>From</th>\n",
              "      <th>To</th>\n",
              "      <th>ligand_up_in_tumor_macrophage</th>\n",
              "      <th>receptor_expressed_in_tumor_macrophage</th>\n",
              "    </tr>\n",
              "  </thead>\n",
              "  <tbody>\n",
              "    <tr>\n",
              "      <th>15</th>\n",
              "      <td>B2M</td>\n",
              "      <td>HFE</td>\n",
              "      <td>True</td>\n",
              "      <td>True</td>\n",
              "    </tr>\n",
              "    <tr>\n",
              "      <th>18</th>\n",
              "      <td>C3</td>\n",
              "      <td>ITGB2</td>\n",
              "      <td>True</td>\n",
              "      <td>True</td>\n",
              "    </tr>\n",
              "    <tr>\n",
              "      <th>20</th>\n",
              "      <td>C3</td>\n",
              "      <td>ITGAX</td>\n",
              "      <td>True</td>\n",
              "      <td>True</td>\n",
              "    </tr>\n",
              "    <tr>\n",
              "      <th>27</th>\n",
              "      <td>CREG1</td>\n",
              "      <td>IGF2R</td>\n",
              "      <td>True</td>\n",
              "      <td>True</td>\n",
              "    </tr>\n",
              "    <tr>\n",
              "      <th>55</th>\n",
              "      <td>GAS6</td>\n",
              "      <td>TYRO3</td>\n",
              "      <td>True</td>\n",
              "      <td>True</td>\n",
              "    </tr>\n",
              "  </tbody>\n",
              "</table>\n",
              "</div>"
            ],
            "text/plain": [
              "     From  ... receptor_expressed_in_tumor_macrophage\n",
              "15    B2M  ...                                   True\n",
              "18     C3  ...                                   True\n",
              "20     C3  ...                                   True\n",
              "27  CREG1  ...                                   True\n",
              "55   GAS6  ...                                   True\n",
              "\n",
              "[5 rows x 4 columns]"
            ]
          },
          "metadata": {},
          "execution_count": 40
        }
      ],
      "metadata": {
        "id": "ArxZ1rmGzNk5",
        "colab": {
          "base_uri": "https://localhost:8080/",
          "height": 0
        },
        "outputId": "cfef23ae-2cc1-4b37-eb31-a30415221db3"
      }
    },
    {
      "cell_type": "markdown",
      "source": [
        "## **目標５：「先行研究で腫瘍組織内マクロファージで発現上昇が見られるリガンド」が見られるかを確認する** \n",
        "\n",
        "先行研究では、腫瘍組織内マクロファージで発現上昇が見られるリガンドが報告されている。\n",
        "\n",
        "> \"intratumoral macrophages express increased cathepsin K, COX-2, MMP-9, PDGF-B, uPA, VEGFA, and HGF (Wang et al., 2011)\"\n",
        "    - Wang et al., 2011 http://www.sciencedirect.com/science/article/pii/S0169500211002546\n",
        "\n",
        "- 例えば、 `HGF` (Hepatocyte Growth Factor) が `dflr_pair` に含まれているかを確認する"
      ],
      "metadata": {
        "id": "RqpOu-jzHHAt"
      }
    },
    {
      "cell_type": "code",
      "execution_count": 41,
      "source": [
        "dflr_pair.query('From == \"HGF\"')"
      ],
      "outputs": [
        {
          "output_type": "execute_result",
          "data": {
            "text/html": [
              "<div>\n",
              "<style scoped>\n",
              "    .dataframe tbody tr th:only-of-type {\n",
              "        vertical-align: middle;\n",
              "    }\n",
              "\n",
              "    .dataframe tbody tr th {\n",
              "        vertical-align: top;\n",
              "    }\n",
              "\n",
              "    .dataframe thead th {\n",
              "        text-align: right;\n",
              "    }\n",
              "</style>\n",
              "<table border=\"1\" class=\"dataframe\">\n",
              "  <thead>\n",
              "    <tr style=\"text-align: right;\">\n",
              "      <th></th>\n",
              "      <th>From</th>\n",
              "      <th>To</th>\n",
              "      <th>ligand_up_in_tumor_macrophage</th>\n",
              "      <th>receptor_expressed_in_tumor_macrophage</th>\n",
              "    </tr>\n",
              "  </thead>\n",
              "  <tbody>\n",
              "    <tr>\n",
              "      <th>241</th>\n",
              "      <td>HGF</td>\n",
              "      <td>MET</td>\n",
              "      <td>True</td>\n",
              "      <td>True</td>\n",
              "    </tr>\n",
              "  </tbody>\n",
              "</table>\n",
              "</div>"
            ],
            "text/plain": [
              "    From  ... receptor_expressed_in_tumor_macrophage\n",
              "241  HGF  ...                                   True\n",
              "\n",
              "[1 rows x 4 columns]"
            ]
          },
          "metadata": {},
          "execution_count": 41
        }
      ],
      "metadata": {
        "id": "P7vWCcALzNk8",
        "colab": {
          "base_uri": "https://localhost:8080/",
          "height": 80
        },
        "outputId": "e49ba9d7-dfb6-455c-8bcf-a4cb8175505f"
      }
    },
    {
      "cell_type": "markdown",
      "source": [
        "----\n",
        "\n",
        "----\n",
        "\n",
        "----\n",
        "\n",
        "\n",
        "# **本当の研究ではこの後どんなことをするか**\n",
        "\n",
        "今のままでは、候補がかなり多いため、仮説を検証する実験をするのは難しそうです。また、この予測がどのくらい正しいのかも不明です。\n",
        "\n",
        "元論文では、このリガンド-受容体ペアを足がかりに、以下のような解析をします。\n",
        "\n",
        "- 受容体の下流のシグナル伝達経路から転写因子があるか探す（パスウェイデータベースを参照する）\n",
        "- それらの下流の転写因子がターゲットとする遺伝子を探す（パスウェイデータベースや遺伝子制御関係のデータベースを参照する）\n",
        "- それらのターゲット遺伝子群にランダムに比べて発現変動遺伝子が濃縮しているかを調べる（統計検定）\n",
        "\n",
        "このような解析を加えることで、単にリガンドと受容体が共起だけでなく、さらに信頼性のあるペアを探すことができます。\n",
        "\n",
        "ちなみに、著者らはこの方法をCCCExplorerと名付けています。詳しくは元の論文をご覧ください:\n",
        "\n",
        "- Toi _et al_., Transcriptome Analysis of Individual Stromal Cell Populations Identifies Stroma-Tumor Crosstalk in Mouse Lung Cancer Model, Cell Reports (2015) http://dx.doi.org/10.1016/j.celrep.2015.01.040 \n"
      ],
      "metadata": {
        "id": "lB9ZSn_zzNlE"
      }
    },
    {
      "cell_type": "markdown",
      "source": [
        "# **小まとめ**\n",
        "\n",
        "このようにIDによる統合を繰り返すだけでもいろいろな仮説を立てられます。また、NGS解析とは言いつつ、NGSデータ以外の生命科学データを合わせることで、単なる発現変動遺伝子のリストよりも深い知見が得られるうることがみえてきたかと思います。\n"
      ],
      "metadata": {
        "id": "Hk5mxVjJzNlF"
      }
    }
  ]
}