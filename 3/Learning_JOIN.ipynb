{
  "nbformat": 4,
  "nbformat_minor": 2,
  "metadata": {
    "colab": {
      "name": "06_JOIN.ipynb",
      "provenance": [],
      "collapsed_sections": []
    },
    "kernelspec": {
      "name": "python3",
      "display_name": "Python 3.7.3 64-bit"
    },
    "language_info": {
      "name": "python",
      "version": "3.7.3",
      "mimetype": "text/x-python",
      "codemirror_mode": {
        "name": "ipython",
        "version": 3
      },
      "pygments_lexer": "ipython3",
      "nbconvert_exporter": "python",
      "file_extension": ".py"
    },
    "interpreter": {
      "hash": "31f2aee4e71d21fbe5cf8b01ff0e069b9275f58929596ceb00d14d90e3e16cd6"
    }
  },
  "cells": [
    {
      "cell_type": "markdown",
      "source": [
        "pandas のライブラリをインポートします。"
      ],
      "metadata": {
        "id": "fxDyMqSjzv9F",
        "colab_type": "text"
      }
    },
    {
      "cell_type": "code",
      "execution_count": 1,
      "source": [
        "import pandas as pd"
      ],
      "outputs": [],
      "metadata": {
        "id": "NLvNv-OxztMa",
        "colab_type": "code",
        "colab": {}
      }
    },
    {
      "cell_type": "markdown",
      "source": [
        "(1) `table1.csv` を読み込んで `df1` として、 (2) `.shape` で行数と列数を表示し、 (3) 中身を表示します。\n"
      ],
      "metadata": {
        "id": "EbPFDbHi3nyU",
        "colab_type": "text"
      }
    },
    {
      "cell_type": "code",
      "execution_count": null,
      "source": [
        "# Code 1\n",
        "\n",
        "df1 = pd.read_csv('https://raw.githubusercontent.com/bioinfo-tsukuba/AdvancedCourse2021/main/3/table1.csv')\n",
        "\n",
        "print(df1.shape)\n",
        "\n",
        "df1"
      ],
      "outputs": [],
      "metadata": {
        "id": "cWzq2jT00RmZ",
        "colab_type": "code",
        "colab": {
          "base_uri": "https://localhost:8080/",
          "height": 173
        },
        "outputId": "6bb935b2-6ea2-4427-9acc-8a2dd488d9e1"
      }
    },
    {
      "cell_type": "markdown",
      "source": [
        "(1) `table2.csv` を読み込んで `df2` として、 (2) `.shape` で行数と列数を表示し、 (3) 中身を表示します。\n"
      ],
      "metadata": {
        "id": "y5nEOKBp4JD0",
        "colab_type": "text"
      }
    },
    {
      "cell_type": "code",
      "execution_count": null,
      "source": [
        "# Code 2\n",
        "\n",
        "df2 = pd.read_csv('https://raw.githubusercontent.com/bioinfo-tsukuba/AdvancedCourse2021/main/3/table2.csv')\n",
        "\n",
        "print(df2.shape)\n",
        "\n",
        "df2"
      ],
      "outputs": [],
      "metadata": {
        "id": "DjbF5cCf1WyI",
        "colab_type": "code",
        "colab": {
          "base_uri": "https://localhost:8080/",
          "height": 204
        },
        "outputId": "a974d4ff-8473-4a70-edef-d8b9651613b8"
      }
    },
    {
      "cell_type": "markdown",
      "source": [
        "以下は、inner join の例です。"
      ],
      "metadata": {
        "id": "Yc-56FGD2Wbb",
        "colab_type": "text"
      }
    },
    {
      "cell_type": "code",
      "execution_count": null,
      "source": [
        "# Code 3\n",
        "\n",
        "df3 = pd.merge(df1, df2, how='inner', on='Gene_ID')\n",
        "\n",
        "df3"
      ],
      "outputs": [],
      "metadata": {
        "id": "_JJQM0eA1eei",
        "colab_type": "code",
        "colab": {
          "base_uri": "https://localhost:8080/",
          "height": 142
        },
        "outputId": "df3259d4-3fc4-4ac2-bb9e-5b58ffd0176a"
      }
    },
    {
      "cell_type": "markdown",
      "source": [
        "以下は、 left join の例です。"
      ],
      "metadata": {
        "id": "FMnwj_c-2c0I",
        "colab_type": "text"
      }
    },
    {
      "cell_type": "code",
      "execution_count": null,
      "source": [
        "# Code 4\n",
        "\n",
        "df4 = pd.merge(df1, df2, how='left', on='Gene_ID')\n",
        "\n",
        "df4"
      ],
      "outputs": [],
      "metadata": {
        "id": "eeaLfO352QOm",
        "colab_type": "code",
        "colab": {
          "base_uri": "https://localhost:8080/",
          "height": 173
        },
        "outputId": "4123aaa3-401c-4004-df0e-6a91ed34bade"
      }
    },
    {
      "cell_type": "markdown",
      "source": [
        "以下は、 right join の例です。"
      ],
      "metadata": {
        "id": "q2L5pq6A2n0e",
        "colab_type": "text"
      }
    },
    {
      "cell_type": "code",
      "execution_count": null,
      "source": [
        "# Code 5\n",
        "\n",
        "df5 = pd.merge(df1, df2, how='right', on='Gene_ID')\n",
        "\n",
        "df5"
      ],
      "outputs": [],
      "metadata": {
        "id": "GjX0cEx42jxM",
        "colab_type": "code",
        "colab": {
          "base_uri": "https://localhost:8080/",
          "height": 204
        },
        "outputId": "f2738c73-99ee-4545-cf4e-d0a8077c07e9"
      }
    },
    {
      "cell_type": "markdown",
      "source": [
        "以下は、 outer join の例です。"
      ],
      "metadata": {
        "id": "4wYJ46uy4U8R",
        "colab_type": "text"
      }
    },
    {
      "cell_type": "code",
      "execution_count": null,
      "source": [
        "# Code 6\n",
        "\n",
        "df6 = pd.merge(df1, df2, how='outer', on='Gene_ID')\n",
        "\n",
        "df6"
      ],
      "outputs": [],
      "metadata": {
        "id": "6oKto8S92r3I",
        "colab_type": "code",
        "colab": {
          "base_uri": "https://localhost:8080/",
          "height": 235
        },
        "outputId": "0235f289-93bf-40dd-ad8e-0299469ee173"
      }
    }
  ]
}