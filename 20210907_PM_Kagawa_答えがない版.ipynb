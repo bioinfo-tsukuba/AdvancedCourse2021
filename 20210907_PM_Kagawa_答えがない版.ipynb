{
  "nbformat": 4,
  "nbformat_minor": 0,
  "metadata": {
    "colab": {
      "name": "20210907_PM_Kagawa_答えがない版.ipynb",
      "provenance": [],
      "collapsed_sections": [],
      "authorship_tag": "ABX9TyMSx1GmSiQRqYXhQtjD9oPK",
      "include_colab_link": true
    },
    "kernelspec": {
      "name": "python3",
      "display_name": "Python 3"
    }
  },
  "cells": [
    {
      "cell_type": "markdown",
      "metadata": {
        "id": "view-in-github",
        "colab_type": "text"
      },
      "source": [
        "<a href=\"https://colab.research.google.com/github/bioinfo-tsukuba/AdvancedCourse2021/blob/main/20210907_PM_Kagawa_%E7%AD%94%E3%81%88%E3%81%8C%E3%81%AA%E3%81%84%E7%89%88.ipynb\" target=\"_parent\"><img src=\"https://colab.research.google.com/assets/colab-badge.svg\" alt=\"Open In Colab\"/></a>"
      ]
    },
    {
      "cell_type": "code",
      "metadata": {
        "id": "mvZaEw8_7zvu"
      },
      "source": [
        ""
      ],
      "execution_count": null,
      "outputs": []
    },
    {
      "cell_type": "markdown",
      "metadata": {
        "id": "3yNR-eMYwc4J"
      },
      "source": [
        "# 1日目午後_目次\n",
        "## 1. エクセルで描くと少し面倒なグラフをpythonで描いてみましょう\n",
        "## 2. データを見て、グラフをpythonで描いてみましょう\n",
        "### 2-1. どのように図示すると意味がありそうか、考えてみましょう\n",
        "### 2-2. こだわりのグラフを、発表していただきます。作ったグラフは成果物として提出していただくので頑張ってください。\n",
        "## 3. (余力のある人向け)関数をちょっと変えるだけで有意差検定がすぐにできます。調べてやってみましょう。"
      ]
    },
    {
      "cell_type": "markdown",
      "metadata": {
        "id": "Dc6i9AlFxliY"
      },
      "source": [
        "## 1. エクセルで描くと少し疲れるグラフをpythonで描いてみましょう"
      ]
    },
    {
      "cell_type": "markdown",
      "metadata": {
        "id": "FgpSKTmPHo5I"
      },
      "source": [
        "### 1-1. 2つの病院で糖尿病患者の血糖値を調べる研究を行いました。病院間で、糖尿病患者の血糖値に違いがあるか調査したい。"
      ]
    },
    {
      "cell_type": "code",
      "metadata": {
        "id": "JvhfJTeNHcpz",
        "colab": {
          "base_uri": "https://localhost:8080/"
        },
        "outputId": "a416b86a-e80c-481e-f015-c96c478ce26f"
      },
      "source": [
        "import matplotlib.pyplot as plt\n",
        "import numpy as np\n",
        "\n",
        "hospital1 = [74, 73, 81, 88, 77, 75, 47, 77, 90, 68, 61, 77, 75, 71, 76, 98, 90, 80, 81, 85]  # 病院1の患者の血糖値\n",
        "hospital2 = [81, 108, 105, 91, 111, 105, 101, 107, 91, 113,  99,  99,  97, 109, 117, 106, 100, 101, 97, 95]  # 病院2の患者の血糖値\n",
        "\n",
        "print(hospital1)"
      ],
      "execution_count": 2,
      "outputs": [
        {
          "output_type": "stream",
          "name": "stdout",
          "text": [
            "[74, 73, 81, 88, 77, 75, 47, 77, 90, 68, 61, 77, 75, 71, 76, 98, 90, 80, 81, 85]\n"
          ]
        }
      ]
    },
    {
      "cell_type": "markdown",
      "metadata": {
        "id": "634FnMNcyDXF"
      },
      "source": [
        "### ヒストグラム"
      ]
    },
    {
      "cell_type": "code",
      "metadata": {
        "id": "lVyd3SttwZzB",
        "colab": {
          "base_uri": "https://localhost:8080/",
          "height": 316
        },
        "outputId": "4a95899b-c450-45e0-d35a-9f82ec44a7f2"
      },
      "source": [
        "横軸が検査値、縦軸が人数のヒストグラムを書いてみましょう(2時間目の復習)。余力がある人は色を変えてみましょう。"
      ],
      "execution_count": null,
      "outputs": [
        {
          "output_type": "execute_result",
          "data": {
            "text/plain": [
              "(array([1., 0., 1., 0., 2., 8., 3., 1., 3., 1.]),\n",
              " array([47. , 52.1, 57.2, 62.3, 67.4, 72.5, 77.6, 82.7, 87.8, 92.9, 98. ]),\n",
              " <a list of 10 Patch objects>)"
            ]
          },
          "metadata": {},
          "execution_count": 2
        },
        {
          "output_type": "display_data",
          "data": {
            "image/png": "[encoded data removed]",
            "text/plain": [
              "<Figure size 432x288 with 1 Axes>"
            ]
          },
          "metadata": {
            "needs_background": "light"
          }
        }
      ]
    },
    {
      "cell_type": "code",
      "metadata": {
        "id": "PBQt1hK12fjM"
      },
      "source": [
        ""
      ],
      "execution_count": null,
      "outputs": []
    },
    {
      "cell_type": "markdown",
      "metadata": {
        "id": "JAswowltBeFp"
      },
      "source": [
        "#### ヴァイオリンプロット"
      ]
    },
    {
      "cell_type": "code",
      "metadata": {
        "id": "S9GF0ZUY-Y_e",
        "colab": {
          "base_uri": "https://localhost:8080/",
          "height": 299
        },
        "outputId": "c2b2f26b-b4ac-4eb5-f7a9-6f10243e6128"
      },
      "source": [
        "plt.violinplot([hospital1, hospital2])\n",
        "plt.xlabel('hospital')\n",
        "plt.ylabel('glucose')"
      ],
      "execution_count": 3,
      "outputs": [
        {
          "output_type": "execute_result",
          "data": {
            "text/plain": [
              "Text(0, 0.5, 'glucose')"
            ]
          },
          "metadata": {},
          "execution_count": 3
        },
        {
          "output_type": "display_data",
          "data": {
            "image/png": "[encoded data removed]",
            "text/plain": [
              "<Figure size 432x288 with 1 Axes>"
            ]
          },
          "metadata": {
            "needs_background": "light"
          }
        }
      ]
    },
    {
      "cell_type": "markdown",
      "metadata": {
        "id": "0cPPxewNCizh"
      },
      "source": [
        "#### 余力のある人向けの小課題\n",
        "##### そもそもヴァイオリンプロットとは何を図示しているのかググってみましょう。\n",
        "##### 箱ひげ図との違いをググってみましょう。\n",
        "##### 　　　　　　　　ヴァイオリンというよりもアジの開きとかエイとか言わない"
      ]
    },
    {
      "cell_type": "code",
      "metadata": {
        "id": "FuzzTvLxA1Jt"
      },
      "source": [
        ""
      ],
      "execution_count": null,
      "outputs": []
    },
    {
      "cell_type": "code",
      "metadata": {
        "id": "DSIfwGAkDo2v"
      },
      "source": [
        ""
      ],
      "execution_count": null,
      "outputs": []
    },
    {
      "cell_type": "markdown",
      "metadata": {
        "id": "8aJTxc3h-VxF"
      },
      "source": [
        "### 1-2. 1つの病院でたくさんの糖尿病患者の、血糖値とHbA1cの値を測定しました。患者は検査値のパターンでいくつかに分類できそう。"
      ]
    },
    {
      "cell_type": "code",
      "metadata": {
        "id": "DuyiUAk_-W5M"
      },
      "source": [
        "glu = [141, 108, 105, 91, 131, 105, 101, 137, 91, 113,  99,  99,  97, 109, 117, 106, 150, 161, 147, 135]  # 20人の患者の血糖値\n",
        "HbA1c = [8.8, 4.2, 4.5, 4.9, 6.7, 6.1, 6.4, 7.5, 6.9, 6.7, 11.2, 10.2, 7.5, 7.9, 9.7, 7.1, 7.4, 8.5, 9.9, 8.7] # 20人の患者のHbA1cの値"
      ],
      "execution_count": 4,
      "outputs": []
    },
    {
      "cell_type": "markdown",
      "metadata": {
        "id": "cFhMpwLUH2tr"
      },
      "source": [
        "#### 散布図"
      ]
    },
    {
      "cell_type": "code",
      "metadata": {
        "id": "2NPi3gBk-W2u",
        "colab": {
          "base_uri": "https://localhost:8080/",
          "height": 296
        },
        "outputId": "508af9bb-0430-4637-c6d5-e7348109f3f1"
      },
      "source": [
        "plt.scatter(glu,HbA1c)\n",
        "plt.xlabel('glucose')\n",
        "plt.ylabel('HbA1c')"
      ],
      "execution_count": 5,
      "outputs": [
        {
          "output_type": "execute_result",
          "data": {
            "text/plain": [
              "Text(0, 0.5, 'HbA1c')"
            ]
          },
          "metadata": {},
          "execution_count": 5
        },
        {
          "output_type": "display_data",
          "data": {
            "image/png": "[encoded data removed]",
            "text/plain": [
              "<Figure size 432x288 with 1 Axes>"
            ]
          },
          "metadata": {
            "needs_background": "light"
          }
        }
      ]
    },
    {
      "cell_type": "code",
      "metadata": {
        "id": "fVZsKXQM-W0r",
        "colab": {
          "base_uri": "https://localhost:8080/",
          "height": 296
        },
        "outputId": "cdb45896-c41d-42f4-9398-4f83aaf768fb"
      },
      "source": [
        "plt.scatter(glu,HbA1c, s= 200, c=\"yellow\", marker=\"*\", alpha=0.5, linewidths=\"2\", edgecolors=\"orange\")\n",
        "plt.xlabel('glucose')\n",
        "plt.ylabel('HbA1c')"
      ],
      "execution_count": 6,
      "outputs": [
        {
          "output_type": "execute_result",
          "data": {
            "text/plain": [
              "Text(0, 0.5, 'HbA1c')"
            ]
          },
          "metadata": {},
          "execution_count": 6
        },
        {
          "output_type": "display_data",
          "data": {
            "image/png": "[encoded data removed]",
            "text/plain": [
              "<Figure size 432x288 with 1 Axes>"
            ]
          },
          "metadata": {
            "needs_background": "light"
          }
        }
      ]
    },
    {
      "cell_type": "markdown",
      "metadata": {
        "id": "0zmyK3Bpd4v7"
      },
      "source": [
        "マーカーを好きなものに変えてみましょう"
      ]
    },
    {
      "cell_type": "markdown",
      "metadata": {
        "id": "NS5Repr4OdNx"
      },
      "source": [
        "### k-means(クラスタリング)"
      ]
    },
    {
      "cell_type": "code",
      "metadata": {
        "id": "JAM12OqYJpGA"
      },
      "source": [
        "from matplotlib import pyplot as plt\n",
        "from sklearn import datasets, preprocessing\n",
        "from sklearn.cluster import KMeans\n",
        "import numpy as np \n",
        "import pandas as pd"
      ],
      "execution_count": 7,
      "outputs": []
    },
    {
      "cell_type": "code",
      "metadata": {
        "id": "HumNSU3dJpDe",
        "colab": {
          "base_uri": "https://localhost:8080/",
          "height": 282
        },
        "outputId": "16737e88-cdad-4383-a9fa-dbcfde579c6b"
      },
      "source": [
        "df = pd.DataFrame(data=[glu,HbA1c], index=['glu','HbA1c'])\n",
        "df2 = df.T\n",
        "#print(df2.head())\n",
        "\n",
        "kmeans_model = KMeans(n_clusters=3, random_state=10).fit(df2)\n",
        "labels = kmeans_model.labels_\n",
        "#print(labels)\n",
        "\n",
        "LABEL_COLOR_MAP = {0:'#00FF00', 1:'#FF0000', 2:'#0000FF'}\n",
        "colors = [LABEL_COLOR_MAP[x] for x in labels]\n",
        "plt.scatter(glu,HbA1c, c=colors)"
      ],
      "execution_count": 8,
      "outputs": [
        {
          "output_type": "execute_result",
          "data": {
            "text/plain": [
              "<matplotlib.collections.PathCollection at 0x7fcd08360790>"
            ]
          },
          "metadata": {},
          "execution_count": 8
        },
        {
          "output_type": "display_data",
          "data": {
            "image/png": "[encoded data removed]",
            "text/plain": [
              "<Figure size 432x288 with 1 Axes>"
            ]
          },
          "metadata": {
            "needs_background": "light"
          }
        }
      ]
    },
    {
      "cell_type": "code",
      "metadata": {
        "id": "TsX9qhosM3Dr",
        "colab": {
          "base_uri": "https://localhost:8080/",
          "height": 282
        },
        "outputId": "851fcb9c-9a8c-4b8c-f51d-6829d4b15f9b"
      },
      "source": [
        "df = pd.DataFrame(data=[glu,HbA1c], index=['glu','HbA1c'])\n",
        "df2 = df.T\n",
        "#print(df2.head())\n",
        "\n",
        "kmeans_model = KMeans(n_clusters=2, random_state=10).fit(df2)\n",
        "labels = kmeans_model.labels_\n",
        "#print(labels)\n",
        "\n",
        "LABEL_COLOR_MAP = {0:'#00FA00', 1:'#FF0000'}\n",
        "colors = [LABEL_COLOR_MAP[x] for x in labels]\n",
        "plt.scatter(glu,HbA1c, c=colors, marker=\"*\")"
      ],
      "execution_count": 9,
      "outputs": [
        {
          "output_type": "execute_result",
          "data": {
            "text/plain": [
              "<matplotlib.collections.PathCollection at 0x7fcd082df390>"
            ]
          },
          "metadata": {},
          "execution_count": 9
        },
        {
          "output_type": "display_data",
          "data": {
            "image/png": "[encoded data removed]",
            "text/plain": [
              "<Figure size 432x288 with 1 Axes>"
            ]
          },
          "metadata": {
            "needs_background": "light"
          }
        }
      ]
    },
    {
      "cell_type": "code",
      "metadata": {
        "id": "vM_lt5SvM2_h",
        "colab": {
          "base_uri": "https://localhost:8080/",
          "height": 296
        },
        "outputId": "5806d536-27dd-4e1f-ce2c-a0348e740fb0"
      },
      "source": [
        "df = pd.DataFrame(data=[glu,HbA1c], index=['glu','HbA1c'])\n",
        "df2 = df.T\n",
        "#print(df2.head())\n",
        "\n",
        "kmeans_model = KMeans(n_clusters=4, random_state=10).fit(df2)\n",
        "labels = kmeans_model.labels_\n",
        "#print(labels)\n",
        "\n",
        "LABEL_COLOR_MAP = {0:'b', 1:'r', 2:'g', 3:'y'}\n",
        "colors = [LABEL_COLOR_MAP[x] for x in labels]\n",
        "plt.scatter(glu,HbA1c, c=colors, marker=\"*\")\n",
        "plt.xlabel('glucose')\n",
        "plt.ylabel('HbA1c')"
      ],
      "execution_count": 10,
      "outputs": [
        {
          "output_type": "execute_result",
          "data": {
            "text/plain": [
              "Text(0, 0.5, 'HbA1c')"
            ]
          },
          "metadata": {},
          "execution_count": 10
        },
        {
          "output_type": "display_data",
          "data": {
            "image/png": "[encoded data removed]",
            "text/plain": [
              "<Figure size 432x288 with 1 Axes>"
            ]
          },
          "metadata": {
            "needs_background": "light"
          }
        }
      ]
    },
    {
      "cell_type": "code",
      "metadata": {
        "id": "CpGmeRd2bnS9"
      },
      "source": [
        ""
      ],
      "execution_count": null,
      "outputs": []
    },
    {
      "cell_type": "code",
      "metadata": {
        "id": "1ORDhCPlbnak"
      },
      "source": [
        ""
      ],
      "execution_count": null,
      "outputs": []
    },
    {
      "cell_type": "markdown",
      "metadata": {
        "id": "t1UJt95AYLw-"
      },
      "source": [
        "#### 発展的な内容：ネットワーク分析"
      ]
    },
    {
      "cell_type": "code",
      "metadata": {
        "id": "hwjhSnqWYLOi",
        "colab": {
          "base_uri": "https://localhost:8080/",
          "height": 357
        },
        "outputId": "1e637a34-411e-400f-ee60-32ecaee54021"
      },
      "source": [
        "# networkx, matplotlib の import\n",
        "import networkx as nx\n",
        "import matplotlib.pyplot as plt\n",
        "\n",
        "\n",
        "# グラフの構築\n",
        "G = nx.karate_club_graph()\n",
        "\n",
        "# レイアウトの取得\n",
        "pos = nx.spring_layout(G)\n",
        "\n",
        "# 可視化\n",
        "plt.figure(figsize=(6, 6))\n",
        "nx.draw_networkx_edges(G, pos)\n",
        "nx.draw_networkx_nodes(G, pos)\n",
        "plt.axis('off')\n",
        "plt.show()"
      ],
      "execution_count": 11,
      "outputs": [
        {
          "output_type": "display_data",
          "data": {
            "image/png": "[encoded data removed]",
            "text/plain": [
              "<Figure size 432x432 with 1 Axes>"
            ]
          },
          "metadata": {}
        }
      ]
    },
    {
      "cell_type": "code",
      "metadata": {
        "id": "sh8MaRxXYLL5",
        "colab": {
          "base_uri": "https://localhost:8080/",
          "height": 357
        },
        "outputId": "87bfdf81-8fe1-43db-b907-4e371f7462e4"
      },
      "source": [
        "\n",
        "# pagerank の計算\n",
        "pr = nx.pagerank(G)\n",
        "\n",
        "# 可視化\n",
        "plt.figure(figsize=(6, 6))\n",
        "nx.draw_networkx_edges(G, pos)\n",
        "nx.draw_networkx_nodes(G, pos, node_color=list(pr.values()), cmap=plt.cm.Reds)\n",
        "plt.axis('off')\n",
        "plt.show()"
      ],
      "execution_count": 12,
      "outputs": [
        {
          "output_type": "display_data",
          "data": {
            "image/png": "[encoded data removed]",
            "text/plain": [
              "<Figure size 432x432 with 1 Axes>"
            ]
          },
          "metadata": {}
        }
      ]
    },
    {
      "cell_type": "code",
      "metadata": {
        "id": "-r7KNGdsb6SK"
      },
      "source": [
        ""
      ],
      "execution_count": null,
      "outputs": []
    },
    {
      "cell_type": "code",
      "metadata": {
        "id": "74zV2bvUYLJR",
        "colab": {
          "base_uri": "https://localhost:8080/",
          "height": 319
        },
        "outputId": "7c0fc578-c687-400e-d717-722bea00ebb5"
      },
      "source": [
        "import networkx as nx\n",
        "import community\n",
        "import matplotlib.pyplot as plt\n",
        "\n",
        "G = nx.random_graphs.powerlaw_cluster_graph(300, 1, .4)\n",
        "nx.transitivity(G)\n",
        "\n",
        "nx.draw_spring(G)\n"
      ],
      "execution_count": 13,
      "outputs": [
        {
          "output_type": "display_data",
          "data": {
            "image/png": "[encoded data removed]",
            "text/plain": [
              "<Figure size 432x288 with 1 Axes>"
            ]
          },
          "metadata": {}
        }
      ]
    },
    {
      "cell_type": "code",
      "metadata": {
        "id": "0FRn9Rp4aiGg",
        "colab": {
          "base_uri": "https://localhost:8080/",
          "height": 232
        },
        "outputId": "7bb01410-d6f6-4de7-8d76-29a775a520dd"
      },
      "source": [
        "import networkx as nx\n",
        "import community\n",
        "import matplotlib.pyplot as plt\n",
        "\n",
        "G = nx.random_graphs.powerlaw_cluster_graph(300, 1, .4)\n",
        "nx.transitivity(G)\n",
        "\n",
        "#find modularity\n",
        "part = community.best_partition(G)\n",
        "mod = community.modularity(part,G)\n",
        "\n",
        "#plot, color nodes using community structure\n",
        "values = [part.get(node) for node in G.nodes()]\n",
        "nx.draw_spring(G, cmap = plt.get_cmap('jet'), node_color = values, node_size=30, with_labels=False)\n",
        "plt.show()"
      ],
      "execution_count": 14,
      "outputs": [
        {
          "output_type": "error",
          "ename": "AttributeError",
          "evalue": "ignored",
          "traceback": [
            "\u001b[0;31m---------------------------------------------------------------------------\u001b[0m",
            "\u001b[0;31mAttributeError\u001b[0m                            Traceback (most recent call last)",
            "\u001b[0;32m<ipython-input-14-cefd203d6a8e>\u001b[0m in \u001b[0;36m<module>\u001b[0;34m()\u001b[0m\n\u001b[1;32m      7\u001b[0m \u001b[0;34m\u001b[0m\u001b[0m\n\u001b[1;32m      8\u001b[0m \u001b[0;31m#find modularity\u001b[0m\u001b[0;34m\u001b[0m\u001b[0;34m\u001b[0m\u001b[0;34m\u001b[0m\u001b[0m\n\u001b[0;32m----> 9\u001b[0;31m \u001b[0mpart\u001b[0m \u001b[0;34m=\u001b[0m \u001b[0mcommunity\u001b[0m\u001b[0;34m.\u001b[0m\u001b[0mbest_partition\u001b[0m\u001b[0;34m(\u001b[0m\u001b[0mG\u001b[0m\u001b[0;34m)\u001b[0m\u001b[0;34m\u001b[0m\u001b[0;34m\u001b[0m\u001b[0m\n\u001b[0m\u001b[1;32m     10\u001b[0m \u001b[0mmod\u001b[0m \u001b[0;34m=\u001b[0m \u001b[0mcommunity\u001b[0m\u001b[0;34m.\u001b[0m\u001b[0mmodularity\u001b[0m\u001b[0;34m(\u001b[0m\u001b[0mpart\u001b[0m\u001b[0;34m,\u001b[0m\u001b[0mG\u001b[0m\u001b[0;34m)\u001b[0m\u001b[0;34m\u001b[0m\u001b[0;34m\u001b[0m\u001b[0m\n\u001b[1;32m     11\u001b[0m \u001b[0;34m\u001b[0m\u001b[0m\n",
            "\u001b[0;31mAttributeError\u001b[0m: module 'community' has no attribute 'best_partition'"
          ]
        }
      ]
    },
    {
      "cell_type": "code",
      "metadata": {
        "id": "BdZ-fYnqbnW8"
      },
      "source": [
        ""
      ],
      "execution_count": null,
      "outputs": []
    },
    {
      "cell_type": "code",
      "metadata": {
        "id": "Nk8G19AMM29O"
      },
      "source": [
        ""
      ],
      "execution_count": null,
      "outputs": []
    },
    {
      "cell_type": "markdown",
      "metadata": {
        "id": "l195iTL5RRsT"
      },
      "source": [
        "## 2. データを見て、グラフをpythonで描いてみましょう\n",
        "#### 2-1. どのように図示すると意味がありそうでしょうか？\n",
        "#### 2-2. どういうことに着目して、このグラフを作成したのか、発表してください。こだわりポイント、もっとこういうグラフを描きたかった、なども教えてください。\n",
        "####      例：検査値Aと検査値Bには相関がありそうだったので、〜〜のグラフを作成してみた。でも、図示してみたら相関なさそうだった・・・"
      ]
    },
    {
      "cell_type": "markdown",
      "metadata": {
        "id": "zzJMaAp_SNqe"
      },
      "source": [
        "https://docs.google.com/spreadsheets/d/1wk7rB3RyCfYA6v11wpHnFCGdCB8MJd8JvlrRnPzmsMg/edit#gid=1557257051\n",
        "\n",
        "\n",
        "https://docs.google.com/spreadsheets/d/1wk7rB3RyCfYA6v11wpHnFCGdCB8MJd8JvlrRnPzmsMg/edit?usp=sharing\n",
        "##### ここを見て、気になる行のデータをコピペして使ってみましょう。\n",
        "##### ヒント　　　数字の間をカンマに変えるためには、ページ上部の　編集＞検索と置換\n",
        "##### 貼り付けがうまくできないときには、ctrl-v"
      ]
    },
    {
      "cell_type": "markdown",
      "metadata": {
        "id": "DvsryT2KaYYU"
      },
      "source": [
        "#### 余裕がある人向け(1) 好きなcsvファイルを落としてきて読み込む\n",
        "##### これができると、何万行(列)もあるデータでもプログラムで簡単に扱える(excelだとだんだん開かなくなる)\n",
        "##### covid19その他東京都のcsvも楽しそう。\n",
        "https://catalog.data.metro.tokyo.lg.jp/dataset"
      ]
    },
    {
      "cell_type": "markdown",
      "metadata": {
        "id": "s6dl8Vi3VIQa"
      },
      "source": [
        "#### 余裕がある人向け(2) 擬似csvファイルを用意しました\n"
      ]
    },
    {
      "cell_type": "markdown",
      "metadata": {
        "id": "OapyYgSdIIl6"
      },
      "source": [
        "まず、以下のファイルをご自身のgoogle driveの下にコピーしてみてください(普通にファイルをダウンロードして、ご自身のgoogle driveにあげる。)\n",
        "\n",
        "https://drive.google.com/file/d/1IsmbnHXxmviDAi-1AKX2bebB9EHJeT15/view?\n",
        "usp=sharing\n",
        "\n",
        "1限でやった\"マウント\"というのを使うのです。"
      ]
    },
    {
      "cell_type": "code",
      "metadata": {
        "id": "H-A5XLxfzVDK"
      },
      "source": [
        "import pandas as pd \n",
        "data= pd.read_csv('drive/My Drive/lab_data.csv') #ディレクトリの位置に気をつけて\n",
        "\n",
        "print(data)"
      ],
      "execution_count": null,
      "outputs": []
    },
    {
      "cell_type": "code",
      "metadata": {
        "id": "WVoF8P8QzU3n"
      },
      "source": [
        "print(data['TG'])"
      ],
      "execution_count": null,
      "outputs": []
    },
    {
      "cell_type": "code",
      "metadata": {
        "id": "glXmz3EowZ4-"
      },
      "source": [
        "print(data['BMI'])"
      ],
      "execution_count": null,
      "outputs": []
    },
    {
      "cell_type": "code",
      "metadata": {
        "id": "3-iJyR3oUQMM"
      },
      "source": [
        "plt.scatter(data['BMI'],data['TG'])"
      ],
      "execution_count": null,
      "outputs": []
    },
    {
      "cell_type": "code",
      "metadata": {
        "id": "qKSHKepIUTn7"
      },
      "source": [
        ""
      ],
      "execution_count": null,
      "outputs": []
    },
    {
      "cell_type": "markdown",
      "metadata": {
        "id": "SPLg460AG948"
      },
      "source": [
        "#### 余裕がある人向け　有意差検定"
      ]
    },
    {
      "cell_type": "code",
      "metadata": {
        "id": "z9wY4mGnHdCD",
        "colab": {
          "base_uri": "https://localhost:8080/",
          "height": 34
        },
        "outputId": "9476c03a-eef7-447a-a05d-c7197515144b"
      },
      "source": [
        "import numpy as np\n",
        "from scipy import stats\n",
        "\n",
        "stats.ttest_rel(hospital1, hospital2)"
      ],
      "execution_count": null,
      "outputs": [
        {
          "output_type": "execute_result",
          "data": {
            "text/plain": [
              "Ttest_relResult(statistic=-7.269247650835767, pvalue=6.744480849304317e-07)"
            ]
          },
          "metadata": {
            "tags": []
          },
          "execution_count": 78
        }
      ]
    },
    {
      "cell_type": "code",
      "metadata": {
        "id": "BkdHfpwykL48"
      },
      "source": [
        ""
      ],
      "execution_count": null,
      "outputs": []
    },
    {
      "cell_type": "markdown",
      "metadata": {
        "id": "NeTFdpWdQaw-"
      },
      "source": [
        "#### 余力がある人向け　　ネットワーク分析を使えそうな研究課題を考えてみましょう"
      ]
    },
    {
      "cell_type": "code",
      "metadata": {
        "id": "Vo4cusfKkL7k"
      },
      "source": [
        ""
      ],
      "execution_count": null,
      "outputs": []
    }
  ]
}