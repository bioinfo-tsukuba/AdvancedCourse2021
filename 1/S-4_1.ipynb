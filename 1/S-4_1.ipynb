{
  "nbformat": 4,
  "nbformat_minor": 2,
  "metadata": {
    "colab": {
      "name": "2021年度 アドヴァンストコースS-4 1限 講義資料/演習課題",
      "provenance": [],
      "collapsed_sections": [],
      "toc_visible": true
    },
    "kernelspec": {
      "name": "python3",
      "display_name": "Python 3"
    },
    "language_info": {
      "name": "python"
    }
  },
  "cells": [
    {
      "cell_type": "markdown",
      "source": [
        "# コードの実行\n",
        "\n",
        "コードの入力は全て**半角**で行います。\n",
        "\n",
        "下のセルを実行すると、 1+1が計算され、`2`と表示されます。\n",
        "\n",
        "セルを実行するためには、コードセルの左側にある`[ ]`となっている部分にマウスカーソルを合わせると再生ボタンに変化するので、その状態でクリックするか、コードセルを選択した状態でCtrl+Enter (macでは ⌘+Enter)キーを押下します。"
      ],
      "metadata": {
        "id": "mUUjvsz5a6Tz"
      }
    },
    {
      "cell_type": "code",
      "execution_count": null,
      "source": [
        "1 + 1"
      ],
      "outputs": [],
      "metadata": {
        "id": "dC6HTA7WEPpF"
      }
    },
    {
      "cell_type": "markdown",
      "source": [
        "`1 + 1`は`1+1`と変わりませんが、式に応じて適宜スペースを入れると見やすくなります。"
      ],
      "metadata": {
        "id": "UntWmdssbYhn"
      }
    },
    {
      "cell_type": "code",
      "execution_count": null,
      "source": [
        "1+1"
      ],
      "outputs": [],
      "metadata": {
        "id": "FyOmTkTTbX_T"
      }
    },
    {
      "cell_type": "code",
      "execution_count": null,
      "source": [
        "1*2 + 3*4"
      ],
      "outputs": [],
      "metadata": {
        "id": "FUTcJFXQb2yH"
      }
    },
    {
      "cell_type": "markdown",
      "source": [
        "# 変数\n",
        "\n",
        "変数を使用することで、値を保持することができます。\n",
        "変数は、`変数名 = 値`で宣言します。\n",
        "\n",
        "宣言した変数は同名でアクセスすることで保存した値を呼び出すことができます。"
      ],
      "metadata": {
        "id": "XzazDnCqcG1Q"
      }
    },
    {
      "cell_type": "markdown",
      "source": [
        "## スカラー変数\n",
        "\n",
        "整数、浮動小数点数、文字列、真偽値など単一の値を持つデータはスカラー値と呼ばれ、\n",
        "スカラー値を持つ変数をスカラー変数と呼びます。"
      ],
      "metadata": {
        "id": "y70o291ZBwcM"
      }
    },
    {
      "cell_type": "code",
      "execution_count": null,
      "source": [
        "# 整数\n",
        "a = 1\n",
        "a"
      ],
      "outputs": [],
      "metadata": {
        "id": "72V3zCrqeJfE"
      }
    },
    {
      "cell_type": "code",
      "execution_count": null,
      "source": [
        "# 計算で変数を利用する\n",
        "a + 1"
      ],
      "outputs": [],
      "metadata": {
        "id": "I5wn9fslgv2G"
      }
    },
    {
      "cell_type": "code",
      "execution_count": null,
      "source": [
        "# 浮動小数点数\n",
        "pi = 3.1415\n",
        "pi"
      ],
      "outputs": [],
      "metadata": {
        "id": "diWTVG7GelIw"
      }
    },
    {
      "cell_type": "code",
      "execution_count": null,
      "source": [
        "# 文字列\n",
        "message = 'hello'\n",
        "message"
      ],
      "outputs": [],
      "metadata": {
        "id": "vpOvQc-3eoqu"
      }
    },
    {
      "cell_type": "code",
      "execution_count": null,
      "source": [
        "# 真偽値\n",
        "f = 1 == 2 # False\n",
        "f"
      ],
      "outputs": [],
      "metadata": {
        "id": "vs-kJc7VeqIx"
      }
    },
    {
      "cell_type": "markdown",
      "source": [
        "上記の例のように、コードブロックの最後に変数名を記述すると、最後書かれた変数の値が結果として表示されますが、明示的に値を画面に出力したい場合は`print()`関数を使用します。"
      ],
      "metadata": {
        "id": "DvAjWEPdfyf4"
      }
    },
    {
      "cell_type": "code",
      "execution_count": null,
      "source": [
        "print(a)\n",
        "print(pi)\n",
        "print(message)\n",
        "print(f)"
      ],
      "outputs": [],
      "metadata": {
        "id": "gwDXEeOSgGEi"
      }
    },
    {
      "cell_type": "markdown",
      "source": [
        "同じ変数名に代入を行うと、前に保存されていた値は消去され、新しい値が上書きされます。"
      ],
      "metadata": {
        "id": "PVAhhUC-nlVP"
      }
    },
    {
      "cell_type": "code",
      "execution_count": null,
      "source": [
        "print(a) # 1\n",
        "a = 2\n",
        "print(a) # 2"
      ],
      "outputs": [],
      "metadata": {
        "id": "d0J05ycZnk6o"
      }
    },
    {
      "cell_type": "markdown",
      "source": [
        "## 配列\n",
        "\n",
        "同じ種類のデータを複数並べたものが配列(list)です。\n",
        "\n",
        "配列の宣言は以下のように行います。"
      ],
      "metadata": {
        "id": "uHyZwsXOe_MN"
      }
    },
    {
      "cell_type": "code",
      "execution_count": null,
      "source": [
        "# 空配列\n",
        "empty_list = []\n",
        "# 要素を指定した宣言\n",
        "l = [1, 2, 3, 4, 5]\n",
        "\n",
        "print(empty_list)\n",
        "print(ｌ)"
      ],
      "outputs": [],
      "metadata": {
        "id": "mk0YJyw_es_n"
      }
    },
    {
      "cell_type": "markdown",
      "source": [
        "要素にアクセスする場合は、`変数名[添字]`とします。\n",
        "\n",
        "Pythonでは添字は0から始まるので、2番目の要素にアクセスしたい場合は添字に1を指定します。"
      ],
      "metadata": {
        "id": "YADPfAgKhFws"
      }
    },
    {
      "cell_type": "code",
      "execution_count": null,
      "source": [
        "l[1] # 2"
      ],
      "outputs": [],
      "metadata": {
        "id": "_IY3Y0Iehdc0"
      }
    },
    {
      "cell_type": "markdown",
      "source": [
        "配列の範囲を指定する場合は添字を`始点:終点+1`とします。\n",
        "\n",
        "数学的に表現すると、`[a:b]`と指定した場合、半開区間$[a,b)$が指定されたことになります。\n",
        "別の言い方をすれば、添字$a$から$b-a$個の要素を取り出します。"
      ],
      "metadata": {
        "id": "auoK_ikMhWxQ"
      }
    },
    {
      "cell_type": "code",
      "execution_count": null,
      "source": [
        "# 始点・終点両方を指定する場合\n",
        "l[1:3] # [2, 3]"
      ],
      "outputs": [],
      "metadata": {
        "colab": {
          "base_uri": "https://localhost:8080/"
        },
        "id": "9qdJn5VLlHIv",
        "outputId": "ab76d703-0bfb-4d39-85cf-60ccc3469ced"
      }
    },
    {
      "cell_type": "code",
      "execution_count": null,
      "source": [
        "# 始点のみを指定する場合: 始点の添字から配列の最後まで\n",
        "l[1:] # [2, 3, 4, 5]"
      ],
      "outputs": [],
      "metadata": {
        "colab": {
          "base_uri": "https://localhost:8080/"
        },
        "id": "1CPrnHmtlSra",
        "outputId": "dfa42275-3863-4ea7-e92b-2d67f4d19e56"
      }
    },
    {
      "cell_type": "code",
      "execution_count": null,
      "source": [
        "# 終点のみを指定する場合: 配列の最初から終点(+1)の添字まで\n",
        "l[:3] # [1, 2, 3]"
      ],
      "outputs": [],
      "metadata": {
        "id": "NsRJ_cZAlbI_"
      }
    },
    {
      "cell_type": "markdown",
      "source": [
        "## 辞書\n",
        "\n",
        "辞書(dictionary)は連想配列とも呼ばれ、キー(文字列)に対して値が対応付けされたデータ構造です。\n",
        "\n",
        "辞書の宣言は以下のように行います。"
      ],
      "metadata": {
        "id": "aEouMW63l0qY"
      }
    },
    {
      "cell_type": "code",
      "execution_count": null,
      "source": [
        "# 空の辞書\n",
        "empty_dic = {}\n",
        "# 要素を指定して宣言\n",
        "tmp_dic = { 'one': 1, 'two': 2, 'three': 3}\n",
        "\n",
        "print(empty_dic)\n",
        "print(tmp_dic)"
      ],
      "outputs": [],
      "metadata": {
        "id": "9JVZqq5qlurs"
      }
    },
    {
      "cell_type": "markdown",
      "source": [
        "辞書の要素へのアクセスは`変数名['キー']`とします。"
      ],
      "metadata": {
        "id": "KhU2o29bpLOl"
      }
    },
    {
      "cell_type": "code",
      "execution_count": null,
      "source": [
        "tmp_dic['one'] # 1"
      ],
      "outputs": [],
      "metadata": {
        "id": "3g-yG0K4pZtd",
        "colab": {
          "base_uri": "https://localhost:8080/"
        },
        "outputId": "a1089b38-8d9d-4627-a6b3-9a5ccd4ce80a"
      }
    },
    {
      "cell_type": "markdown",
      "source": [
        "辞書は、`変数名.keys()`および`変数名.values()`でキーおよび値を配列として取得可能です。"
      ],
      "metadata": {
        "id": "6-NjYWszp0RW"
      }
    },
    {
      "cell_type": "code",
      "execution_count": null,
      "source": [
        "tmp_dic.keys() # ['one', 'two', 'three']"
      ],
      "outputs": [],
      "metadata": {
        "id": "9qvJxvyypz0D",
        "colab": {
          "base_uri": "https://localhost:8080/"
        },
        "outputId": "7ff82b55-c58f-4611-8701-e101fe8e04c6"
      }
    },
    {
      "cell_type": "code",
      "execution_count": null,
      "source": [
        "tmp_dic.values() # [1, 2, 3]"
      ],
      "outputs": [],
      "metadata": {
        "id": "jWVTtOMFpmYt",
        "colab": {
          "base_uri": "https://localhost:8080/"
        },
        "outputId": "9fdee269-a8d7-4035-8355-9b6d21bc8e7b"
      }
    },
    {
      "cell_type": "code",
      "execution_count": null,
      "source": [
        "# 使用例: 所定のキーが含まれているか調べる\n",
        "print('one' in tmp_dic.keys()) # True\n",
        "print('four' in tmp_dic.keys()) # False"
      ],
      "outputs": [],
      "metadata": {
        "colab": {
          "base_uri": "https://localhost:8080/"
        },
        "id": "xZcGcDp8zlW8",
        "outputId": "09535970-f1f4-4e21-a057-aa2d79214c12"
      }
    },
    {
      "cell_type": "markdown",
      "source": [
        "## 配列、辞書の入れ子構造\n",
        "\n",
        "配列および辞書はそれぞれ入れ子にすることができます。"
      ],
      "metadata": {
        "id": "0eOdHwU-qVPH"
      }
    },
    {
      "cell_type": "code",
      "execution_count": null,
      "source": [
        "# 配列の配列 (2次元配列)\n",
        "list_list = [[1, 2, 3],\n",
        "             [4, 5, 6],\n",
        "             [7, 8, 9]]\n",
        "list_list[0][2] # 3"
      ],
      "outputs": [],
      "metadata": {
        "id": "g6UaqSVCqiJe"
      }
    },
    {
      "cell_type": "code",
      "execution_count": null,
      "source": [
        "# 辞書の配列\n",
        "profs = [\n",
        "    { 'name': 'Takahiro Yano' },\n",
        "    { 'name': 'Masaru Sanuki' },\n",
        "    { 'name': 'Haruka Ozaki' },\n",
        "    { 'name': 'Keitaro Kume' },\n",
        "    { 'name': 'Rina Kagawa' }\n",
        "]\n",
        "profs[1]['name'] # 'Masaru Sanuki'"
      ],
      "outputs": [],
      "metadata": {
        "id": "cVIAEX_3sDq_"
      }
    },
    {
      "cell_type": "code",
      "execution_count": null,
      "source": [
        "# 配列の辞書\n",
        "last_7days_new_positives = {\n",
        "    # 9/6 - 8/31 (new to first)\n",
        "    'Ibaraki': [ 158,  259,  263,  263,  220,  215,  160],\n",
        "    'Tokyo':   [ 968, 1853, 2362, 2539, 3099, 3168, 2909]\n",
        "}\n",
        "last_7days_new_positives['Ibaraki'][1] # 259"
      ],
      "outputs": [],
      "metadata": {
        "id": "EYd4Te3IsHQg"
      }
    },
    {
      "cell_type": "code",
      "execution_count": null,
      "source": [
        "# 辞書の辞書\n",
        "univ_tsukuba_undergraduate_schools = {\n",
        "    'Medicine and Health Sciences': {\n",
        "        'colleges': ['Medicine', 'Nursing', 'Medical Sciences'],\n",
        "        'dean': 'Masayuki Masu'\n",
        "    },\n",
        "    'Informatics': {\n",
        "        'colleges': ['Information Science',\n",
        "                     'Media Arts, Science and Technology',\n",
        "                     'Knowledge and Library Sciences'],\n",
        "        'dean': 'Shinichi Nakayama' # as of website\n",
        "    }\n",
        "}\n",
        "print(univ_tsukuba_undergraduate_schools)\n",
        "univ_tsukuba_undergraduate_schools['Medicine and Health Sciences']['dean'] # 'Masayuki Masu'"
      ],
      "outputs": [],
      "metadata": {
        "id": "fyaMcNjrxLG2"
      }
    },
    {
      "cell_type": "markdown",
      "source": [
        "### 小課題\n",
        "\n",
        "`univ_tsukuba_undergraduate_schools`から`'Information Science'`を取り出すにはどのようにアクセスすれば良いか？"
      ],
      "metadata": {
        "id": "wesYDPct5HRL"
      }
    },
    {
      "cell_type": "code",
      "execution_count": null,
      "source": [
        "# 小課題"
      ],
      "outputs": [],
      "metadata": {
        "id": "2SXtoTsr5wyZ"
      }
    },
    {
      "cell_type": "markdown",
      "source": [
        "# 課題\n",
        "\n",
        "以下の課題を行うこと。"
      ],
      "metadata": {
        "id": "OVI0ccX95yBP"
      }
    },
    {
      "cell_type": "markdown",
      "source": [
        "## 課題1\n",
        "\n",
        "次の表のデータを保存するデータ構造を考え、Python上の1つの変数として宣言するコードを書きなさい。\n",
        "また、正しく値が格納されているか変数を出力して確かめること。\n",
        "\n",
        "宣言した変数は後の課題で操作するので、操作がしやすい構造を考えること。\n",
        "\n",
        "| 名前(name) | 血液型(blood_type) | 年齢(age) | 好きな食べ物(favorite_foods) |\n",
        "| ---------- | ------------------ | --------- | ---------------------------- |\n",
        "| Alice      | A                  | 20        | pizza, pudding               |\n",
        "| Bob        | B                  | 31        | beer, candy, steak           |\n",
        "| Jessie     | O                  | 42        | (None)                       |\n",
        "| Kenshiro   | AB                 | 28        | sake, sushi                  |\n",
        "\n",
        "(食べ物の中に飲み物が含まれているというツッコミは無しでお願いします)\n"
      ],
      "metadata": {
        "id": "DkyULneeBnFv"
      }
    },
    {
      "cell_type": "code",
      "execution_count": null,
      "source": [
        "# 課題1"
      ],
      "outputs": [],
      "metadata": {
        "id": "ZvueqeID_xdP"
      }
    },
    {
      "cell_type": "markdown",
      "source": [
        "## 課題2\n",
        "\n",
        "表のデータには間違いがあり、Jessieさんの年齢は正しくは35歳でした。\n",
        "\n",
        "Jessieさんの年齢を修正し、Jessieさんに関する情報を辞書の形で出力するコードを記述せよ。"
      ],
      "metadata": {
        "id": "aLpDa87T_6Vo"
      }
    },
    {
      "cell_type": "code",
      "execution_count": null,
      "source": [
        "# 課題2"
      ],
      "outputs": [],
      "metadata": {
        "id": "TKRUpy3sA5H_"
      }
    },
    {
      "cell_type": "markdown",
      "source": [
        "## 課題3\n",
        "\n",
        "Bobさんの好きな食べ物の中に、\n",
        "\n",
        "- pizza\n",
        "- steak\n",
        "\n",
        "が含まれているか。\n",
        "\n",
        "それぞれ判定し、真偽値を出力するコードを記述せよ。"
      ],
      "metadata": {
        "id": "ICAn5GyTB_47"
      }
    },
    {
      "cell_type": "code",
      "execution_count": null,
      "source": [
        "# 課題3: pizza"
      ],
      "outputs": [],
      "metadata": {
        "id": "ogae05QsB9tw"
      }
    },
    {
      "cell_type": "code",
      "execution_count": null,
      "source": [
        "# 課題3: steak"
      ],
      "outputs": [],
      "metadata": {
        "id": "Y08rZ9jCCpkp"
      }
    }
  ]
}